{
 "cells": [
  {
   "cell_type": "markdown",
   "metadata": {
    "id": "LyX5PiwNA9I4"
   },
   "source": [
    "# Medianizer 2000"
   ]
  },
  {
   "cell_type": "markdown",
   "metadata": {},
   "source": [
    "## READ THIS BEFORE RUNNING ALL CELLS\n",
    "\n",
    "Use the code block below to control which sections of the notebook to run.\n"
   ]
  },
  {
   "cell_type": "code",
   "execution_count": null,
   "metadata": {},
   "outputs": [],
   "source": [
    "INSTALL_DEPENDENCIES = true  # MUST BE `true` ON FIRST RUN. otherwise set to `false`\n",
    "RUN_TESTS = false            # takes 30 minutes\n",
    "RUN_COMPARISON = false       # requires Java\n",
    "RUN_GUI = false              # requires restarting notebook after each run\n",
    "\n",
    "return nothing\n"
   ]
  },
  {
   "cell_type": "markdown",
   "metadata": {},
   "source": [
    "Be warned:\n",
    "- **Installing dependencies takes ~20 seconds to complete**  \n",
    "  (but is required for first run)\n",
    "- **Tests take ~30 minutes to complete**\n",
    "- **Comparison to other algorithms requires Java to be installed**  \n",
    "  (because it runs code we did not write)\n",
    "- **GUI requires restarting the Julia kernel when you close it**  \n",
    "  (because Julia notebooks do not support multithreading)\n",
    "\n",
    "Also note: the GUI window may appear behind other windows."
   ]
  },
  {
   "cell_type": "markdown",
   "metadata": {
    "id": "D19vad2zsKDx",
    "jp-MarkdownHeadingCollapsed": true
   },
   "source": [
    "## Install Dependencies"
   ]
  },
  {
   "cell_type": "code",
   "execution_count": null,
   "metadata": {
    "colab": {
     "base_uri": "https://localhost:8080/"
    },
    "id": "0_HIx53vr7Gk",
    "outputId": "ea7854e9-17c5-46a0-dd2a-d40a5841db88"
   },
   "outputs": [],
   "source": [
    "if INSTALL_DEPENDENCIES\n",
    "    # Add the required Packages to Pkg\n",
    "    using Pkg\n",
    "    Pkg.add(\"Random\")\n",
    "    Pkg.add(\"DelimitedFiles\")\n",
    "    Pkg.add(\"BenchmarkTools\")\n",
    "    Pkg.add(\"Plots\")\n",
    "    Pkg.add(\"CSV\")\n",
    "    Pkg.add(\"DataFrames\")\n",
    "end\n"
   ]
  },
  {
   "cell_type": "code",
   "execution_count": null,
   "metadata": {
    "id": "TO9UyydT6I3R"
   },
   "outputs": [],
   "source": [
    "# Import the required Packages\n",
    "using DelimitedFiles\n",
    "using Random\n",
    "Random.seed!(2000)\n",
    "using BenchmarkTools\n",
    "using Plots\n",
    "using CSV\n",
    "using DataFrames\n"
   ]
  },
  {
   "cell_type": "markdown",
   "metadata": {
    "id": "uqQVI92zBCzA",
    "jp-MarkdownHeadingCollapsed": true
   },
   "source": [
    "## DCJ"
   ]
  },
  {
   "cell_type": "code",
   "execution_count": null,
   "metadata": {
    "colab": {
     "base_uri": "https://localhost:8080/"
    },
    "id": "B4MEifEhxzYP",
    "outputId": "38faed48-80e7-4e9e-8d8a-080deaac7e59"
   },
   "outputs": [],
   "source": [
    "# Generate the Adjacency Graph from the Genome\n",
    "function AdjacencyGraph(G::Vector{Vector{Int}})\n",
    "    # G is the input Genome with each chromosome represented as a separate vector\n",
    "\n",
    "    # Initialize the AdjacencyGraph as a Vector of Vectors\n",
    "    AG=Vector{Vector{Int}}()\n",
    "\n",
    "\n",
    "    for chrom in G\n",
    "      chrom_length=length(chrom)\n",
    "      for j in 2:chrom_length\n",
    "        push!(AG,[chrom[j-1],-chrom[j]])\n",
    "      end\n",
    "      if chrom[end]!=0\n",
    "        push!(AG,[chrom[end],-chrom[1]])\n",
    "      end\n",
    "    end\n",
    "    return AG\n",
    "end\n"
   ]
  },
  {
   "cell_type": "code",
   "execution_count": null,
   "metadata": {
    "colab": {
     "base_uri": "https://localhost:8080/"
    },
    "id": "rDp2nqIw5AHj",
    "outputId": "82f5388a-7996-4874-eab4-08d9f13b801e"
   },
   "outputs": [],
   "source": [
    "# Function to convert the Adjacency Graph into the Genome\n",
    "function Genome(AG::Vector{Vector{Int}})\n",
    "    # AG is the Adjacency Graph\n",
    "    G=Vector{Vector{Int}}()\n",
    "    while(length(AG)>0)\n",
    "        chrom=Vector{Int}()\n",
    "        # start with the first adjacency\n",
    "        idx=findfirst(elt->0 in elt,AG)\n",
    "\n",
    "        if isnothing(idx)\n",
    "            idx=1\n",
    "        end\n",
    "        if AG[idx][2]==0\n",
    "            start=AG[idx][2]\n",
    "            temp=AG[idx][1]\n",
    "        else\n",
    "            start=AG[idx][1]\n",
    "            temp=AG[idx][2]\n",
    "        end\n",
    "        # if the first adjacency consists of a telomere the gene is linear\n",
    "        if(start==0)\n",
    "            push!(chrom,start)\n",
    "        end\n",
    "        # Delete the adjacency after it has been used\n",
    "        deleteat!(AG,idx)\n",
    "        # Loop till the end of the gene\n",
    "        while(start!=-temp)\n",
    "            push!(chrom,-temp)\n",
    "            # find the next adjacency\n",
    "            i=findfirst(elt->-temp in elt,AG)\n",
    "            if isnothing(i)\n",
    "                break\n",
    "            end\n",
    "            if(AG[i][2]==-temp)\n",
    "                temp=AG[i][1]\n",
    "            else\n",
    "                temp=AG[i][2]\n",
    "            end\n",
    "            deleteat!(AG,i)\n",
    "        end\n",
    "        push!(chrom,start)\n",
    "        push!(G,chrom)\n",
    "    end\n",
    "    return G\n",
    "end\n"
   ]
  },
  {
   "cell_type": "code",
   "execution_count": null,
   "metadata": {
    "colab": {
     "base_uri": "https://localhost:8080/"
    },
    "id": "hJOhnK8t5FCI",
    "outputId": "2cb98621-3386-487f-c8e2-822006a0961d"
   },
   "outputs": [],
   "source": [
    "# Function that recursively computes the length of a path\n",
    "function ComputePathLength(E1::Vector{Vector{Int}}, E2::Vector{Vector{Int}}, l::Int, i::Int, select::Int)\n",
    "    # E1 and E2 store the edges of the AdjacencyGraph\n",
    "    # l is the current path length\n",
    "    # i is the index of the current edge\n",
    "    # select is the Genome number 1 or 2\n",
    "\n",
    "    # If select is 1 use the first genome otherwise use the second\n",
    "    E=(select==1) ? E2 : E1\n",
    "    # Store the last visited node, to check for a cycle\n",
    "    last = E[i]\n",
    "    # Increment the length of the path\n",
    "    l+=1\n",
    "    # Delete the used edges\n",
    "    deleteat!(E1,i)\n",
    "    deleteat!(E2,i)\n",
    "    # Find the next edge\n",
    "    j = findfirst(elt -> last == elt, E)\n",
    "    # If an edge exist recursively call the function with the new edge, otherwise return\n",
    "    if !isnothing(j)\n",
    "        last, s, l = ComputePathLength(E1, E2, l, j, 3 - select)\n",
    "    else\n",
    "        return last, 3 - select, l\n",
    "    end\n",
    "    return last, s, l\n",
    "end\n"
   ]
  },
  {
   "cell_type": "code",
   "execution_count": null,
   "metadata": {
    "colab": {
     "base_uri": "https://localhost:8080/"
    },
    "id": "N_N3pzty5Tdy",
    "outputId": "7a3f4fd3-8511-47a2-adc5-30effd3b7671"
   },
   "outputs": [],
   "source": [
    "# Function to compute the DCJ distance between two genomes\n",
    "function DCJdistance(N::Int,G1::Vector{Vector{Int}}, G2::Vector{Vector{Int}})\n",
    "    # N is the number of genes\n",
    "    # G1 is the first Genome\n",
    "    # G2 is the second Genome\n",
    "\n",
    "    # Get the Adjacency Graphs for both the genomes\n",
    "    AG1=AdjacencyGraph(G1)\n",
    "    AG2=AdjacencyGraph(G2)\n",
    "    # Initialize the number of cycles and odd length paths to zero\n",
    "    C=0\n",
    "    I=0\n",
    "    # Add the edges of the graphs to the edge vectors\n",
    "    E1=Vector{Vector{Int}}()\n",
    "    E2=Vector{Vector{Int}}()\n",
    "    for i in 1:length(AG1)\n",
    "        if(AG1[i][1]!=0)\n",
    "            j=findfirst(elt->AG1[i][1] in elt, AG2)\n",
    "            push!(E1,AG1[i])\n",
    "            push!(E2,AG2[j])\n",
    "        end\n",
    "        if(AG1[i][2]!=0)\n",
    "            j=findfirst(elt->AG1[i][2] in elt, AG2)\n",
    "            push!(E1,AG1[i])\n",
    "            push!(E2,AG2[j])\n",
    "        end\n",
    "    end\n",
    "    # First compute the non-cyclic paths\n",
    "    # All non-cyclic paths will start at an adjacency that has a telomere\n",
    "    # First start with the adjacencies of genome 1 that have a telomere\n",
    "    while(length(E1)>0)\n",
    "        i=findfirst(elt->0 in elt,E1)\n",
    "        if isnothing(i)\n",
    "          break\n",
    "        end\n",
    "        # Store the first node of the path or cycle\n",
    "        first=E1[i]\n",
    "        last,s,l=ComputePathLength(E1,E2,0,i,1)\n",
    "        # Check if there is a cycle present, otherwise check if the length of the path is odd\n",
    "        if(s==1&&last==first)\n",
    "            C=C+1\n",
    "        else\n",
    "            if(l%2!=0)\n",
    "                I=I+1\n",
    "            end\n",
    "        end\n",
    "    end\n",
    "    # Next use the adjacencies of genome 2 that have a telomere\n",
    "    while(length(E2)>0)\n",
    "        i=findfirst(elt->0 in elt,E2)\n",
    "        if isnothing(i)\n",
    "          break\n",
    "        end\n",
    "        # Store the first node of the path or cycle\n",
    "        first=E2[i]\n",
    "        last,s,l=ComputePathLength(E1,E2,0,i,2)\n",
    "        # Check if there is a cycle present, otherwise check if the length of the path is odd\n",
    "        if(s==2&&last==first)\n",
    "            C=C+1\n",
    "        else\n",
    "            if(l%2!=0)\n",
    "                I=I+1\n",
    "            end\n",
    "        end\n",
    "    end\n",
    "    # Finally use all the remaining adjacencies\n",
    "    while(length(E1)>0)\n",
    "        # Store the first node of the path or cycle\n",
    "        first=E1[1]\n",
    "        last,s,l=ComputePathLength(E1,E2,0,1,1)\n",
    "        # Check if there is a cycle present, otherwise check if the length of the path is odd\n",
    "        if(s==1&&last==first)\n",
    "            C=C+1\n",
    "        else\n",
    "            if(l%2!=0)\n",
    "                I=I+1\n",
    "            end\n",
    "        end\n",
    "    end\n",
    "    # Compute the DCJ distance\n",
    "    return Int(N-(C+div(I,2)))\n",
    "end\n"
   ]
  },
  {
   "cell_type": "code",
   "execution_count": null,
   "metadata": {
    "colab": {
     "base_uri": "https://localhost:8080/"
    },
    "id": "jc1qfxEX5gie",
    "outputId": "f69b9532-9afb-4add-d305-37d2e8cc1eb2"
   },
   "outputs": [],
   "source": [
    "# Function to convert the first Genome into the second using DCJ operations\n",
    "function DCJ(G1::Vector{Vector{Int}}, G2::Vector{Vector{Int}}, num_DCJ::Int, count_operations::Bool=false)\n",
    "    # G1 is the first Genome\n",
    "    # G2 is the second Genome\n",
    "    # num_DCJ is the number of DCJ operations to perform\n",
    "    # if count_operations is true return the number of DCJ operations performed\n",
    "\n",
    "    # Generate the Adjacency Graphs of both the Genomes\n",
    "    AG1=AdjacencyGraph(G1)\n",
    "    AG2=AdjacencyGraph(G2)\n",
    "    # If num_DCJ is zero return the first genome without making any changes\n",
    "    if num_DCJ==0\n",
    "        if count_operations==true\n",
    "          return 0,G1\n",
    "        else\n",
    "          return G1\n",
    "        end\n",
    "    end\n",
    "    count=0\n",
    "    # Run the loop from 1 till the stop index\n",
    "    # First check adjacencies that do not contain telomeres\n",
    "    for i in 1:length(AG2)\n",
    "        if count>=num_DCJ\n",
    "          break\n",
    "        end\n",
    "        # For the adjacencies in the second genome that don't contain a telomere\n",
    "        if(AG2[i][1]!=0&&AG2[i][2]!=0)\n",
    "            # Find indices u, v in the first genome that contain the elements in the ith adjacency of the second genome\n",
    "            u=findfirst(elt->AG2[i][1] in elt,AG1)\n",
    "            v=findfirst(elt->AG2[i][2] in elt,AG1)\n",
    "            # If u and v are different, make u equal to the ith adjacency in the second genome by performing the DCJ operation\n",
    "            if(u!=v)\n",
    "                count+=1\n",
    "                p=AG2[i][1]\n",
    "                q=AG2[i][2]\n",
    "                if(AG1[u][1]!=p)\n",
    "                    l=AG1[u][1]\n",
    "                else\n",
    "                    l=AG1[u][2]\n",
    "                end\n",
    "                if(AG1[v][1]!=q)\n",
    "                    m=AG1[v][1]\n",
    "                else\n",
    "                    m=AG1[v][2]\n",
    "                end\n",
    "                AG1[u][1]=p\n",
    "                AG1[u][2]=q\n",
    "                AG1[v][1]=l\n",
    "                AG1[v][2]=m\n",
    "                if(p==0&&q==0)\n",
    "                    deleteat!(AG1,u)\n",
    "                end\n",
    "                if(l==0&&m==0)\n",
    "                    deleteat!(AG1,v)\n",
    "                end\n",
    "            end\n",
    "        end\n",
    "    end\n",
    "    # Next check adjacencies that contain telomeres\n",
    "    for i in 1:length(AG2)\n",
    "      if count>=num_DCJ\n",
    "        break\n",
    "      end\n",
    "      if(AG2[i][1]==0||AG2[i][2]==0)\n",
    "        # For all the adjacencies in the second genome that contain a telomere\n",
    "        if(AG2[i][1]!=0)\n",
    "          p=AG2[i][1]\n",
    "        else\n",
    "          p=AG2[i][2]\n",
    "        end\n",
    "        # Find the vertex u in the first genome that contains the same element\n",
    "        u=findfirst(elt->p in elt,AG1)\n",
    "        if(AG1[u][1]!=p)\n",
    "          l=AG1[u][1]\n",
    "        else\n",
    "          l=AG1[u][2]\n",
    "        end\n",
    "        # If vertex u is not equal to vertex i\n",
    "        if(l!=0)\n",
    "          count+=1\n",
    "          # Perfom the DCJ operation on vertex u\n",
    "          AG1[u][1]=p\n",
    "          AG1[u][2]=0\n",
    "          push!(AG1,[l,0])\n",
    "        end\n",
    "      end\n",
    "    end\n",
    "    # Return the genome represented by the resulting adjacency graph\n",
    "    if count_operations==true\n",
    "      return count,Genome(AG1)\n",
    "    else\n",
    "      return Genome(AG1)\n",
    "    end\n",
    "end\n"
   ]
  },
  {
   "cell_type": "markdown",
   "metadata": {
    "id": "VEP29fL0BTgY",
    "jp-MarkdownHeadingCollapsed": true
   },
   "source": [
    "## Genetic Algorithm"
   ]
  },
  {
   "cell_type": "code",
   "execution_count": null,
   "metadata": {
    "colab": {
     "base_uri": "https://localhost:8080/"
    },
    "id": "eG018uzG5UeA",
    "outputId": "efd02cce-9929-404e-9d43-44e3b5bdb215"
   },
   "outputs": [],
   "source": [
    "# Function to compute the fitness score based on the DCJ distance\n",
    "function Fitness(N::Int,G1::Vector{Vector{Int}}, G2::Vector{Vector{Int}}, G3::Vector{Vector{Int}}, G::Vector{Vector{Int}})\n",
    "    # N is the number of Genes\n",
    "    # G1, G2, G3 are the input Genomes\n",
    "    # G is the candidate Median Genome\n",
    "\n",
    "    # SBest is the best possible median score\n",
    "    SBest=ceil((DCJdistance(N,G1,G2)+DCJdistance(N,G2,G3)+DCJdistance(N,G1,G3))/2)\n",
    "    # S is the median score of genome G\n",
    "    S=DCJdistance(N,G1,G)+DCJdistance(N,G2,G)+DCJdistance(N,G3,G)\n",
    "    # FG is the fitness score of Genome G\n",
    "    FG=N-(S-SBest)\n",
    "    return FG\n",
    "end\n"
   ]
  },
  {
   "cell_type": "code",
   "execution_count": null,
   "metadata": {
    "colab": {
     "base_uri": "https://localhost:8080/"
    },
    "id": "chJtkRlq5l_D",
    "outputId": "c22e626f-132e-4f40-902d-d9d0ebeeb8cb"
   },
   "outputs": [],
   "source": [
    "# Function that generates the initial population based on the 3 Genomes\n",
    "function Initialize(N::Int,G1::Vector{Vector{Int}},G2::Vector{Vector{Int}},G3::Vector{Vector{Int}},pop_size::Int)\n",
    "    # N is the number of Genes\n",
    "    # G1, G2, G3 are the input Genomes\n",
    "    # pop_size is the Size of the Population\n",
    "\n",
    "    # Generate the Initial Population by performing the DCJ operation on the 3 pairs of Genomes and stopping at random points in the DCJ operation\n",
    "    a=div(pop_size,3)\n",
    "    Population=Vector{Vector{Vector{Int}}}(undef, pop_size)\n",
    "    for i in 1:a\n",
    "        Population[i]=DCJ(G1,G2,rand(1:N))\n",
    "    end\n",
    "    for i in 1:a\n",
    "        Population[i+a]=DCJ(G2,G3,rand(1:N))\n",
    "    end\n",
    "    for i in 1:pop_size-2*a\n",
    "        Population[i+2*a]=DCJ(G1,G3,rand(1:N))\n",
    "    end\n",
    "    return Population\n",
    "end\n"
   ]
  },
  {
   "cell_type": "code",
   "execution_count": null,
   "metadata": {
    "colab": {
     "base_uri": "https://localhost:8080/"
    },
    "id": "v9Yno5nj5vSg",
    "outputId": "4586d1fe-792b-4f49-9ce4-87e087d17602"
   },
   "outputs": [],
   "source": [
    "# Function that generates a mutation of a genome\n",
    "function Mutate(N::Int,Child::Vector{Vector{Int}}, G1::Vector{Vector{Int}}, G2::Vector{Vector{Int}}, G3::Vector{Vector{Int}})\n",
    "    # N is the number of Genes\n",
    "    # Child is the Genome that needs to be mutated\n",
    "    # G1, G2, G3 are the input Genomes\n",
    "\n",
    "    # Estimate the distances to each of the genomes\n",
    "    d1_est=div((DCJdistance(N,G1,G2)+DCJdistance(N,G1,G3)-DCJdistance(N,G2,G3)),2)\n",
    "    d2_est=div((DCJdistance(N,G1,G2)+DCJdistance(N,G2,G3)-DCJdistance(N,G1,G3)),2)\n",
    "    d3_est=div((DCJdistance(N,G1,G3)+DCJdistance(N,G2,G3)-DCJdistance(N,G1,G2)),2)\n",
    "    # Calculate the Actual distance of the median genome from the other genomes\n",
    "    d1=DCJdistance(N,G1,Child)\n",
    "    d2=DCJdistance(N,G2,Child)\n",
    "    d3=DCJdistance(N,G3,Child)\n",
    "    diff1=d1-d1_est\n",
    "    diff2=d2-d2_est\n",
    "    diff3=d3-d3_est\n",
    "    # Mutate the median genome towards the genome it is furthest from\n",
    "    if(diff1>=diff2&&diff1>=diff3)\n",
    "        mut=DCJ(Child,G1,diff1)\n",
    "    else\n",
    "        if(diff2>=diff1&&diff2>=diff3)\n",
    "            mut=DCJ(Child,G2,diff2)\n",
    "        else\n",
    "            mut=DCJ(Child,G3,diff3)\n",
    "        end\n",
    "    end\n",
    "    return mut\n",
    "end\n"
   ]
  },
  {
   "cell_type": "code",
   "execution_count": null,
   "metadata": {
    "colab": {
     "base_uri": "https://localhost:8080/"
    },
    "id": "BCosY8Wo52FL",
    "outputId": "bd28561e-ad96-4b8d-ad03-e0dd716734c9"
   },
   "outputs": [],
   "source": [
    "# Generate the Children after the crossover of two parents\n",
    "function Crossover(N::Int,Parent1::Vector{Vector{Int}}, Parent2::Vector{Vector{Int}}, G1::Vector{Vector{Int}}, G2::Vector{Vector{Int}}, G3::Vector{Vector{Int}})\n",
    "    # N is the number of Genes\n",
    "    # Parent1, Parent2 are the two Genomes on whom the Crossover has to be performed\n",
    "    # G1, G2, G3 are the input Genomes\n",
    "\n",
    "    # Compute the fitness score for both the parents\n",
    "    f1=Fitness(N,G1,G2,G3,Parent1)\n",
    "    f2=Fitness(N,G1,G2,G3,Parent2)\n",
    "    # Create one child by applying a random number of DCJ operations to the parent with the worse fitness score\n",
    "    if(f1>f2)\n",
    "        Child1=DCJ(Parent2,Parent1,rand(1:N))\n",
    "        Child2=Parent1\n",
    "    else\n",
    "        Child1=DCJ(Parent1,Parent2,rand(1:N))\n",
    "        Child2=Parent2\n",
    "    end\n",
    "    # Mutate both the generated children\n",
    "    mut1=Mutate(N,Child1,G1,G2,G3)\n",
    "    mut2=Mutate(N,Child2,G1,G2,G3)\n",
    "    # Calculate the fitness scores of all the four genomes\n",
    "    fc1=Fitness(N,G1,G2,G3,Child1)\n",
    "    fc2=Fitness(N,G1,G2,G3,Child2)\n",
    "    fmut1=Fitness(N,G1,G2,G3,mut1)\n",
    "    fmut2=Fitness(N,G1,G2,G3,mut2)\n",
    "    scores=[[fc1,Child1],[fc2,Child2],[fmut1,mut1],[fmut2,mut2]]\n",
    "    sort!(scores)\n",
    "    # return the best 2 children based on the fitness scores\n",
    "    return scores[4][2], scores[3][2]\n",
    "end\n"
   ]
  },
  {
   "cell_type": "code",
   "execution_count": null,
   "metadata": {
    "colab": {
     "base_uri": "https://localhost:8080/"
    },
    "id": "MrAnAjSx4ers",
    "outputId": "e4b8565b-1bc4-4b36-c6f0-2532aad68eb2"
   },
   "outputs": [],
   "source": [
    "# Function that eliminates duplicated Genomes from the Population\n",
    "function EliminateDuplicates!(Population::Vector{Vector{Vector{Int}}})\n",
    "  # Population is the Population of all Genomes, generated from the Crossover and Mutation operations\n",
    "\n",
    "  # Start with the first Genome\n",
    "  i=1\n",
    "  while(i<=length(Population))\n",
    "    j=i+1\n",
    "    # For each other Genomes check if it is equal to the ith Genome\n",
    "    while(j<=length(Population))\n",
    "      # If it is equal delete it from the population\n",
    "      if sameGenome(Population[i],Population[j])\n",
    "        deleteat!(Population,j)\n",
    "      else\n",
    "        j+=1\n",
    "      end\n",
    "    end\n",
    "    i+=1\n",
    "  end\n",
    "end\n"
   ]
  },
  {
   "cell_type": "code",
   "execution_count": null,
   "metadata": {
    "colab": {
     "base_uri": "https://localhost:8080/"
    },
    "id": "QwpQlvSo5_9p",
    "outputId": "6b6e1feb-249d-441a-9214-dcc5b267cef0"
   },
   "outputs": [],
   "source": [
    "# Function that selects best from a given population\n",
    "function SelectBest(N::Int,Population::Vector{Vector{Vector{Int}}},pop_size::Int,G1::Vector{Vector{Int}},G2::Vector{Vector{Int}},G3::Vector{Vector{Int}})\n",
    "    # N is the number of Genes\n",
    "    # Population is the Population of Genomes generated from the crossover and mutation operations\n",
    "    # pop_size is the size of the population\n",
    "    # G1, G2, G3 are the input Genomes\n",
    "\n",
    "    # Eliminate duplicates from the Population\n",
    "    EliminateDuplicates!(Population)\n",
    "    # Initialize vector of scores\n",
    "    scores=[]\n",
    "    # For each genome in the population compute the fitness score\n",
    "    for i in 1:length(Population)\n",
    "        fit=Fitness(N,G1,G2,G3,Population[i])\n",
    "        append!(scores,[[fit,i]])\n",
    "    end\n",
    "    # Sort the scores in descending order\n",
    "    sort!(scores, rev=true)\n",
    "    # Separted the top 10% of scores from the remaining\n",
    "    top_scores=scores[1:min(Int(round(0.1*pop_size)),length(Population))]\n",
    "    remaining_scores=scores[1+Int(round(0.1*pop_size)):end]\n",
    "    # Get the indices of the top scores and the remaining scores\n",
    "    top_indices=[]\n",
    "    for score in top_scores\n",
    "      append!(top_indices,Int(score[2]))\n",
    "    end\n",
    "    remaining_indices=[]\n",
    "    for score in remaining_scores\n",
    "      append!(remaining_indices,Int(score[2]))\n",
    "    end\n",
    "    # Automatically choose the first 10 percent\n",
    "    NewPopulation=Population[top_indices]\n",
    "    # From the remaining population randomly choose candidate genomes\n",
    "    RemainingPopulation=Population[remaining_indices]\n",
    "    for i in length(NewPopulation)+1:pop_size\n",
    "        if(length(RemainingPopulation)==0)\n",
    "          break\n",
    "        end\n",
    "        if(length(RemainingPopulation)>1)\n",
    "          r=rand(1:length(RemainingPopulation))\n",
    "        else\n",
    "          r=1\n",
    "        end\n",
    "        push!(NewPopulation,RemainingPopulation[r])\n",
    "        deleteat!(RemainingPopulation,r)\n",
    "    end\n",
    "    return NewPopulation\n",
    "end\n"
   ]
  },
  {
   "cell_type": "code",
   "execution_count": null,
   "metadata": {
    "colab": {
     "base_uri": "https://localhost:8080/"
    },
    "id": "ZneFpt3v6TGA",
    "outputId": "232b38ce-314e-4300-917c-d6dbee832e8a"
   },
   "outputs": [],
   "source": [
    "# Function that performs the Genetic Algorithm\n",
    "function GeneticAlgorithm(\n",
    "    N::Int,\n",
    "    G1::Vector{Vector{Int}},\n",
    "    G2::Vector{Vector{Int}},\n",
    "    G3::Vector{Vector{Int}},\n",
    "    PopSize::Int,\n",
    "    NextGenSize::Int,\n",
    "    NumIter::Int,\n",
    "    tol::Int=NumIter,\n",
    "    store_iteration_result::Bool=false,\n",
    "    output_channel::Union{Nothing, Channel}=nothing,\n",
    ")\n",
    "    # N is the number of Genes\n",
    "    # G1, G2, G3 are the input Genomes\n",
    "    # PopSize the Size of the Population\n",
    "    # NextGenSize is the Size of the Generated Next Generation, should be an even number because children are generated in pairs\n",
    "    # NumIter is the number of iterations\n",
    "    # tol is the number of iterations for which no improvement in the best score will be tolerated\n",
    "\n",
    "    # Initialize the algorithm\n",
    "    Population=Initialize(N,G1,G2,G3,PopSize)\n",
    "    # In each iteration\n",
    "    iter_required=NumIter\n",
    "    prev_best=0\n",
    "    num=0\n",
    "    NextGenSize+=1\n",
    "    if store_iteration_result\n",
    "      results=zeros(div(NumIter,10))\n",
    "    end\n",
    "    for iter in 1:NumIter\n",
    "        NewPopulation=Vector{Vector{Vector{Int}}}(undef, NextGenSize)\n",
    "        # The Best Genome is automatically selected in the Next Generation\n",
    "        NewPopulation[1]=deepcopy(Population[1])\n",
    "\n",
    "        # Output to UI\n",
    "        if !isnothing(output_channel)\n",
    "          println(\"Putting output $iter\")\n",
    "          put!(output_channel, (iter, deepcopy(Population[1])))\n",
    "          println(\"Done putting output $iter\")\n",
    "        end\n",
    "\n",
    "        j=2\n",
    "        # Generate the new population by performing the crossover and mutation by choosing two random parents\n",
    "        while(true)\n",
    "            if(j>NextGenSize)\n",
    "              break\n",
    "            end\n",
    "            child1,child2=Crossover(N,Population[rand(1:length(Population))],Population[rand(1:length(Population))],G1,G2,G3)\n",
    "            NewPopulation[j]=child1\n",
    "            j+=1\n",
    "            if(j>NextGenSize)\n",
    "              break\n",
    "            end\n",
    "            NewPopulation[j]=child2\n",
    "            j+=1\n",
    "        end\n",
    "        # Select the best from the population\n",
    "        Population=SelectBest(N,NewPopulation,PopSize,G1,G2,G3)\n",
    "        curr_score=Fitness(N,G1,G2,G3,Population[1])\n",
    "        if store_iteration_result&&iter%10==0\n",
    "          results[div(iter,10)]=curr_score\n",
    "        end\n",
    "        # If the current is the best possible score return\n",
    "        if curr_score==N\n",
    "          iter_required=iter\n",
    "          break\n",
    "        end\n",
    "        # If the current score has not improved after 'tol' number of iterations break\n",
    "        if curr_score<=prev_best\n",
    "          num+=1\n",
    "          if num==tol\n",
    "            iter_required=iter\n",
    "            break\n",
    "          end\n",
    "        else\n",
    "          num=0\n",
    "        end\n",
    "        prev_best=max(prev_best,curr_score)\n",
    "    end\n",
    "    if store_iteration_result&&iter_required<NumIter\n",
    "      for i in div(iter_required,10)+1:div(NumIter,10)\n",
    "        results[i]=N\n",
    "      end\n",
    "    end\n",
    "    if store_iteration_result\n",
    "      return Population[1],iter_required,results\n",
    "    else\n",
    "      return Population[1],iter_required\n",
    "    end\n",
    "end\n"
   ]
  },
  {
   "cell_type": "markdown",
   "metadata": {
    "id": "ldneXA2t8LFt",
    "jp-MarkdownHeadingCollapsed": true
   },
   "source": [
    "## Genetic Algorithm for M Genomes (Generalized Median Solver)"
   ]
  },
  {
   "cell_type": "code",
   "execution_count": null,
   "metadata": {
    "colab": {
     "base_uri": "https://localhost:8080/"
    },
    "id": "Mti6J-xQHm4N",
    "outputId": "d4b9af76-739f-412b-e4ae-11e57ac8bc93"
   },
   "outputs": [],
   "source": [
    "# Function that generates the initial population based on M Genomes\n",
    "function InitializeGeneral(N::Int,M::Int,Genomes::Vector{Vector{Vector{Int}}},pop_size::Int)\n",
    "    # N is the number of Genes\n",
    "    # M is the number of Input Genomes\n",
    "    # Genomes is the Vector of Input Genomes\n",
    "    # pop_size is the Size of the Population\n",
    "\n",
    "    # Generate the Initial Population by performing the DCJ operation on all pairs of Genomes and stopping at random points in the DCJ operation\n",
    "    num_pairs=M*(M-1)/2\n",
    "    a=Int(floor(pop_size/num_pairs))\n",
    "    Population=Vector{Vector{Vector{Int}}}(undef, pop_size)\n",
    "    k=1\n",
    "    for i in 1:M-2\n",
    "      for j in i+1:M\n",
    "        for _ in 1:a\n",
    "          Population[k]=DCJ(Genomes[i],Genomes[j],rand(1:N))\n",
    "          k+=1\n",
    "        end\n",
    "      end\n",
    "    end\n",
    "    for _ in 1:Int(pop_size-(num_pairs-1)*a)\n",
    "      Population[k]=DCJ(Genomes[end-1],Genomes[end],rand(1:N))\n",
    "      k+=1\n",
    "    end\n",
    "    return Population\n",
    "end\n"
   ]
  },
  {
   "cell_type": "code",
   "execution_count": null,
   "metadata": {
    "colab": {
     "base_uri": "https://localhost:8080/"
    },
    "id": "JDkElSjoLTMz",
    "outputId": "fb11695b-1fd6-4b36-d833-684b06258f1f"
   },
   "outputs": [],
   "source": [
    "# Function to compute the fitness score based on the DCJ distance for the Median of M Genomes\n",
    "function FitnessGeneral(N::Int,M::Int,Genomes::Vector{Vector{Vector{Int}}}, G::Vector{Vector{Int}})\n",
    "    # N is the Number of Genomes\n",
    "    # M is the Number of Input Genomes\n",
    "    # Genomes is the Vector of Input Genomes\n",
    "    # G is the Candidate Median Genome\n",
    "\n",
    "    # SBest is the best possible median score\n",
    "    SBest=0\n",
    "    for i in 1:M-1\n",
    "      for j in i+1:M\n",
    "        SBest+=DCJdistance(N,Genomes[i],Genomes[j])\n",
    "      end\n",
    "    end\n",
    "    SBest=ceil(SBest/(M-1))\n",
    "    # S is the median score of genome G\n",
    "    S=0\n",
    "    for i in 1:length(Genomes)\n",
    "      S+=DCJdistance(N,Genomes[i],G)\n",
    "    end\n",
    "    # FG is the fitness score of Genome G\n",
    "    FG=N-(S-SBest)\n",
    "    return FG\n",
    "end\n"
   ]
  },
  {
   "cell_type": "code",
   "execution_count": null,
   "metadata": {
    "colab": {
     "base_uri": "https://localhost:8080/"
    },
    "id": "i-Q2tScxMxhd",
    "outputId": "423a6dad-2168-43f3-cd87-c49d26166cba"
   },
   "outputs": [],
   "source": [
    "# Function that generates a mutation of a genome in the case of Median of M Genomes\n",
    "function MutateGeneral(N::Int,M::Int,Child::Vector{Vector{Int}}, Genomes::Vector{Vector{Vector{Int}}})\n",
    "    # N is the Number of Genes\n",
    "    # M is the Number of Input Genomes\n",
    "    # Child is the Genome that has to be mutated\n",
    "    # Genomes is the Vector of Input Genomes\n",
    "\n",
    "    # Estimate the distances to each of the genomes\n",
    "    # d_est[i]=(sum of distances of Genome i to all other genomes - sum of pair wise distances of all other genomes)/(M-1)\n",
    "    d_est=Vector{Int}(undef,length(Genomes))\n",
    "    for i in 1:M-1\n",
    "      for j in i+1:M\n",
    "        dist=DCJdistance(N,Genomes[i],Genomes[j])\n",
    "        for k in 1:M\n",
    "          if k==i||k==j\n",
    "            d_est[k]+=dist\n",
    "          else\n",
    "            d_est[k]-=dist\n",
    "          end\n",
    "        end\n",
    "      end\n",
    "    end\n",
    "    for i in 1:M\n",
    "      d_est[i]=div(d_est[i],(M-1))\n",
    "    end\n",
    "    # Calculate the Actual distance of the median genome from the other genomes\n",
    "    d=Vector{Int}(undef,M)\n",
    "    for i in 1:M\n",
    "      d[i]=DCJdistance(N,Genomes[i],Child)\n",
    "    end\n",
    "    diff=d-d_est\n",
    "    # Mutate the median genome towards the genome it is furthest from\n",
    "    idx=argmax(diff)\n",
    "    mut=DCJ(Child,Genomes[idx],diff[idx])\n",
    "    return mut\n",
    "end\n"
   ]
  },
  {
   "cell_type": "code",
   "execution_count": null,
   "metadata": {
    "colab": {
     "base_uri": "https://localhost:8080/"
    },
    "id": "Doxi6v_gKpux",
    "outputId": "8798fd76-4552-4d1d-c54b-9f118f409adf"
   },
   "outputs": [],
   "source": [
    "# Generate the Children after the crossover of two parents in the case of finding the Median of M Genomes\n",
    "function CrossoverGeneral(N::Int,M::Int,Parent1::Vector{Vector{Int}}, Parent2::Vector{Vector{Int}}, Genomes::Vector{Vector{Vector{Int}}})\n",
    "    # N is the Number of Genes\n",
    "    # M is the Number of Input Genomes\n",
    "    # Parent1, Parent2 are the two Genomes on whom the Crossover operation has to be performed\n",
    "    # Genomes is the Vector of Input Genomes\n",
    "    # Compute the fitness score for both the parents\n",
    "    f1=FitnessGeneral(N,M,Genomes,Parent1)\n",
    "    f2=FitnessGeneral(N,M,Genomes,Parent2)\n",
    "    # Create one child by applying a random number of DCJ operations to the parent with the worse fitness score\n",
    "    if(f1>f2)\n",
    "        Child1=DCJ(Parent2,Parent1,rand(1:N))\n",
    "        Child2=Parent1\n",
    "    else\n",
    "        Child1=DCJ(Parent1,Parent2,rand(1:N))\n",
    "        Child2=Parent2\n",
    "    end\n",
    "    # Mutate both the generated children\n",
    "    mut1=MutateGeneral(N,M,Child1,Genomes)\n",
    "    mut2=MutateGeneral(N,M,Child2,Genomes)\n",
    "    # Calculate the fitness scores of all the four genomes\n",
    "    fc1=FitnessGeneral(N,M,Genomes,Child1)\n",
    "    fc2=FitnessGeneral(N,M,Genomes,Child2)\n",
    "    fmut1=FitnessGeneral(N,M,Genomes,mut1)\n",
    "    fmut2=FitnessGeneral(N,M,Genomes,mut2)\n",
    "    scores=[[fc1,Child1],[fc2,Child2],[fmut1,mut1],[fmut2,mut2]]\n",
    "    sort!(scores)\n",
    "    # return the best 2 children based on the fitness scores\n",
    "    return scores[4][2], scores[3][2]\n",
    "end\n"
   ]
  },
  {
   "cell_type": "code",
   "execution_count": null,
   "metadata": {
    "colab": {
     "base_uri": "https://localhost:8080/"
    },
    "id": "Nd4Cnwt8WfAY",
    "outputId": "e6e8edaf-c3e7-416e-f52e-bb48f70ad8bc"
   },
   "outputs": [],
   "source": [
    "# Function that selects best from a given population in the case of finding the Median of M Genomes\n",
    "function SelectBestGeneral(N::Int,M::Int,Population::Vector{Vector{Vector{Int}}},pop_size::Int,Genomes::Vector{Vector{Vector{Int}}})\n",
    "    # N is the Number of Genes\n",
    "    # M is the Number of Input Genomes\n",
    "    # Population is the Population Generated from the Crossover and Mutation Operations\n",
    "    # pop_size is the Size of the Population\n",
    "    # Genomes is the Vector of Input Genomes\n",
    "\n",
    "    # Eliminate duplicated Genomes in the Population\n",
    "    EliminateDuplicates!(Population)\n",
    "    # Initialize vector of scores\n",
    "    scores=[]\n",
    "    # For each genome in the population compute the fitness score\n",
    "    for i in 1:length(Population)\n",
    "        fit=FitnessGeneral(N,M,Genomes,Population[i])\n",
    "        append!(scores,[[fit,i]])\n",
    "    end\n",
    "    # Sort the scores in descending order\n",
    "    sort!(scores, rev=true)\n",
    "    # Separate the top 10% of scores from the remaining scores\n",
    "    if length(Population)<Int(round(0.1*pop_size))\n",
    "      top_scores=scores\n",
    "    else\n",
    "      top_scores=scores[1:Int(round(0.1*pop_size))]\n",
    "    end\n",
    "    remaining_scores=scores[max(1,Int(round(0.1*pop_size))):end]\n",
    "    # Get the indices of the top 10% and remaining scores\n",
    "    top_indices=[]\n",
    "    for score in top_scores\n",
    "      append!(top_indices,Int(score[2]))\n",
    "    end\n",
    "    remaining_indices=[]\n",
    "    for score in remaining_scores\n",
    "      append!(remaining_indices,Int(score[2]))\n",
    "    end\n",
    "    # Automatically choose the first 10 percent\n",
    "    NewPopulation=Population[top_indices]\n",
    "    # From the remaining population randomly choose candidate genomes\n",
    "    RemainingPopulation=Population[remaining_indices]\n",
    "    for i in length(NewPopulation):pop_size\n",
    "        if(length(RemainingPopulation)==0)\n",
    "          break\n",
    "        end\n",
    "        if(length(RemainingPopulation)>1)\n",
    "          r=rand(1:length(RemainingPopulation))\n",
    "        else\n",
    "          r=1\n",
    "        end\n",
    "        push!(NewPopulation,RemainingPopulation[r])\n",
    "        deleteat!(RemainingPopulation,r)\n",
    "    end\n",
    "    return NewPopulation\n",
    "end\n"
   ]
  },
  {
   "cell_type": "code",
   "execution_count": null,
   "metadata": {
    "colab": {
     "base_uri": "https://localhost:8080/"
    },
    "id": "LXENwcynGtdp",
    "outputId": "ae9329ce-b02a-4d9f-f8a4-ecef00419a46"
   },
   "outputs": [],
   "source": [
    "# Function that performs the Genetic Algorithm in the General case of M Genomes\n",
    "function GeneticAlgorithmGeneral(N::Int,M::Int,Genomes::Vector{Vector{Vector{Int}}},PopSize::Int,NextGenSize::Int,NumIter::Int,tol::Int=NumIter)\n",
    "    # N is the Number of Genes\n",
    "    # M is the Number of Input Genomes\n",
    "    # Genomes is the Vector of Input Genomes\n",
    "    # PopSize is the Size of the Population\n",
    "    # NextGenSize is the Size of the Generated Next Generation\n",
    "    # NumIter is the Number of Iterations\n",
    "    # tol is the number of iteration for which no improvement in the best score is tolerated\n",
    "\n",
    "    #if tol==-1\n",
    "      #tol=NumIter\n",
    "    #end\n",
    "    # Initialize the algorithm\n",
    "    Population=InitializeGeneral(N,M,Genomes,PopSize)\n",
    "    # In each iteration\n",
    "    iter_required=NumIter\n",
    "    prev_best=0\n",
    "    num=0\n",
    "    for iter in 1:NumIter\n",
    "        NewPopulation=Vector{Vector{Vector{Int}}}(undef, NextGenSize+1)\n",
    "        NewPopulation[end]=deepcopy(Population[1])\n",
    "        # Generate the new population by performing the crossover and mutation by choosing two random parents\n",
    "        for i in 1:div(NextGenSize,2)\n",
    "            child1,child2=CrossoverGeneral(N,M,Population[rand(1:length(Population))],Population[rand(1:length(Population))],Genomes)\n",
    "            NewPopulation[2*i-1]=child1\n",
    "            NewPopulation[2*i]=child2\n",
    "        end\n",
    "        # Select the best from the population\n",
    "        Population=SelectBestGeneral(N,M,NewPopulation,PopSize,Genomes)\n",
    "        curr_score=FitnessGeneral(N,M,Genomes,Population[1])\n",
    "        # If the current is the best possible score return\n",
    "        if curr_score==N\n",
    "          iter_required=iter\n",
    "          break\n",
    "        end\n",
    "        # If the current score has not improved after a certain number of iterations break\n",
    "        if curr_score<=prev_best\n",
    "          num+=1\n",
    "          if num==tol\n",
    "            iter_required=iter\n",
    "            break\n",
    "          end\n",
    "        else\n",
    "          num=0\n",
    "        end\n",
    "        prev_best=max(prev_best,curr_score)\n",
    "    end\n",
    "    return Population[1],iter_required\n",
    "end\n"
   ]
  },
  {
   "cell_type": "markdown",
   "metadata": {
    "id": "Wa7GQSipXMWl",
    "jp-MarkdownHeadingCollapsed": true
   },
   "source": [
    "## Data Simulator"
   ]
  },
  {
   "cell_type": "code",
   "execution_count": null,
   "metadata": {
    "colab": {
     "base_uri": "https://localhost:8080/"
    },
    "id": "IceYui-O_8z3",
    "outputId": "9dba4661-7d0f-47c2-c05b-25967f1c2107"
   },
   "outputs": [],
   "source": [
    "# Function that creates a random genome with N and a random number of chromosomes\n",
    "function createGenome(N::Int,single_chrom::Bool=false)\n",
    "  # N is the Number of Genes\n",
    "  # if single_chrom is true create a Genome with a single chromosome\n",
    "\n",
    "  # The genes are stored in X\n",
    "  X = collect(1:N)\n",
    "  # Initialize the Genome G\n",
    "  G=Vector{Vector{Int}}()\n",
    "  if single_chrom\n",
    "    shuffle!(X)\n",
    "    lin=rand([0,1])\n",
    "    if lin==1\n",
    "      pushfirst!(X,0)\n",
    "      push!(X,0)\n",
    "    end\n",
    "    push!(G,X)\n",
    "    return G\n",
    "  end\n",
    "  # Make sure that all the genes are used\n",
    "  while length(X)!=0\n",
    "    # Choose random start and stop positions for the chromosome\n",
    "    if length(X)>1\n",
    "      start_idx=rand(1:length(X)-1)\n",
    "      stop_idx=rand(start_idx+1:length(X))\n",
    "    else\n",
    "      start_idx=1\n",
    "      stop_idx=1\n",
    "    end\n",
    "    temp=shuffle(X[start_idx:stop_idx])\n",
    "    deleteat!(X,start_idx:stop_idx)\n",
    "    # If lin is 1 the chromosome is linear, otherwise it is circular\n",
    "    lin=rand([0,1])\n",
    "    if lin==1\n",
    "      pushfirst!(temp,0)\n",
    "      push!(temp,0)\n",
    "    end\n",
    "    push!(G,temp)\n",
    "  end\n",
    "  return G\n",
    "end\n"
   ]
  },
  {
   "cell_type": "code",
   "execution_count": null,
   "metadata": {
    "colab": {
     "base_uri": "https://localhost:8080/"
    },
    "id": "ES922OUPRp06",
    "outputId": "bc945ecc-6e03-4878-da12-b2cb517a3a29"
   },
   "outputs": [],
   "source": [
    "# Function that checks if two genomes are the same\n",
    "function sameGenome(G1::Vector{Vector{Int}},G2::Vector{Vector{Int}})\n",
    "  # G1, G2 the two given Genomes\n",
    "\n",
    "  G1=deepcopy(G1)\n",
    "  G2=deepcopy(G2)\n",
    "  # Check is each chromose in G2 has an equal chromosome in G1\n",
    "  for j in 1:length(G2)\n",
    "    # check is chromosome is linear\n",
    "    if G2[j][1]==0\n",
    "      # The corresponding chromosome in G1 could either be the exact copy of the chromosome in G2, or it could be the reversed complement of the chromosome in G2\n",
    "      idx=findfirst(elt->elt==G2[j],G1)\n",
    "      if isnothing(idx)\n",
    "        reverse!(G2[j])\n",
    "        G2[j]=-G2[j]\n",
    "        idx=findfirst(elt->elt==G2[j],G1)\n",
    "      end\n",
    "      if isnothing(idx)\n",
    "        return false\n",
    "      end\n",
    "    # Chromosome is circular\n",
    "    else\n",
    "      # The corresponding chromosome in G1 is could either be the exact copy of the chromosome in G2, or it could be a rotated version of it\n",
    "      idx=findfirst(elt->G2[j][1] in elt,G1)\n",
    "      if isnothing(idx)\n",
    "        idx=findfirst(elt->-G2[j][1] in elt,G1)\n",
    "        if isnothing(idx)\n",
    "          return false\n",
    "        else\n",
    "          reverse!(G2[j])\n",
    "          G2[j]=-G2[j]\n",
    "          start=findfirst(elt->elt==G2[j][1],G1[idx])\n",
    "        end\n",
    "      else\n",
    "        start=findfirst(elt->elt==G2[j][1],G1[idx])\n",
    "      end\n",
    "      if isnothing(start)\n",
    "        return false\n",
    "      end\n",
    "      G2[j]=circshift(G2[j], start-1)\n",
    "    end\n",
    "    if G2[j]==G1[idx]\n",
    "      deleteat!(G1,idx)\n",
    "    end\n",
    "  end\n",
    "  # If all the chromosomes in G1 have been used, the two genomes are equal\n",
    "  if length(G1)==0\n",
    "    return true\n",
    "  else\n",
    "    return false\n",
    "  end\n",
    "end\n"
   ]
  },
  {
   "cell_type": "code",
   "execution_count": null,
   "metadata": {
    "colab": {
     "base_uri": "https://localhost:8080/"
    },
    "id": "MFwZ1SDRMG09",
    "outputId": "54298eee-7a35-4058-d366-ef1c3123db6a"
   },
   "outputs": [],
   "source": [
    "# Function to perform a single random DCJ operation of a Genome\n",
    "function perform_dcj(genome,single_chrom)\n",
    "    # genome is the given genome\n",
    "    # if single_chrom is true the DCJ operation should not add a chromosome to the Genome\n",
    "\n",
    "    # First Generate the Adjacency Graph\n",
    "    AG = AdjacencyGraph(genome)\n",
    "    # Pick two random Adjacencies\n",
    "    i, j = rand(1:length(AG), 2)\n",
    "    # If rand(0:1) is 1 perform the DCJ operation on the two randomly picked adjacencies\n",
    "    # Otherwise perform the DCJ operation on one of the randomly picked adjacencies and (0,0)\n",
    "    if single_chrom||rand(0:1)==1\n",
    "        temp=AG[i][2]\n",
    "        AG[i][2]=AG[j][1]\n",
    "        AG[j][1]=temp\n",
    "        # If (0,0) is generated by the DCJ operation delete it\n",
    "        if(AG[i][1]==0&&AG[i][2]==0)\n",
    "            deleteat!(AG,i)\n",
    "        end\n",
    "        if(AG[j][1]==0&&AG[j][2]==0)\n",
    "            deleteat!(AG,j)\n",
    "        end\n",
    "    else\n",
    "        # Perfrom the DCJ operation only if both the elements in the adjacency are not zero\n",
    "        if(AG[i][2]!=0&&AG[i][1]!=0)\n",
    "            push!(AG,[AG[i][2],0])\n",
    "            AG[i][2]=0\n",
    "        end\n",
    "    end\n",
    "    return Genome(AG)\n",
    "end\n"
   ]
  },
  {
   "cell_type": "code",
   "execution_count": null,
   "metadata": {
    "colab": {
     "base_uri": "https://localhost:8080/"
    },
    "id": "fj7ShXSVq7OL",
    "outputId": "aafbdadb-221f-4a64-fc49-175a3fcfbbea"
   },
   "outputs": [],
   "source": [
    "# Function to randomly generate genomes from a base genome and rates of change\n",
    "function simulate_genomes(n, rates, output_file,single_chrom=false, seed=nothing)\n",
    "    # n is the number of genes\n",
    "    # rates is a vector of rates for each generated genome\n",
    "    # output_file is the file where the output of the function is stored\n",
    "    # if single_chrom is true the Generated Genomes will only have one chromosome\n",
    "    # seed is the seed for the random function, for reproducability\n",
    "\n",
    "    # Set the seed if provided\n",
    "    if seed !== nothing\n",
    "        Random.seed!(seed)\n",
    "    end\n",
    "\n",
    "    # Randomly Generate the base Genome\n",
    "    base_genome = createGenome(n,single_chrom)\n",
    "    genomes = Vector{Vector{Vector{Int}}}()\n",
    "\n",
    "    # Generate the genomes from the base_genome and given rate\n",
    "    for rate in rates\n",
    "        genome = copy(base_genome)\n",
    "        for inversion in 1:rate\n",
    "            genome=perform_dcj(genome,single_chrom)\n",
    "        end\n",
    "        push!(genomes, genome)\n",
    "    end\n",
    "\n",
    "    # Write to file\n",
    "    open(output_file, \"w\") do file\n",
    "        for genome in genomes\n",
    "            write(file, join(genome, \" \"), \"\\n\")\n",
    "        end\n",
    "    end\n",
    "\n",
    "    return base_genome, genomes\n",
    "end\n"
   ]
  },
  {
   "cell_type": "code",
   "execution_count": null,
   "metadata": {
    "colab": {
     "base_uri": "https://localhost:8080/"
    },
    "id": "zMe_fVhTd7RZ",
    "outputId": "f6ea1676-aae9-42a9-c0bc-4d40d1b088b1"
   },
   "outputs": [],
   "source": [
    "# Function to randomly generate genomes from a base genome, given number of Genomes\n",
    "function simulate_genomesGeneral(n, m, output_file,single_chrom=false, seed=nothing)\n",
    "    # n is the number of genes\n",
    "    # m is the number of generated genomes\n",
    "    # output_file is the file where the output of the function is stored\n",
    "    # if single_chrom is true the Generated Genomes will only have one chromosome\n",
    "    # seed is the seed for the random function, for reproducability\n",
    "\n",
    "    # Set the seed if provided\n",
    "    if seed !== nothing\n",
    "        Random.seed!(seed)\n",
    "    end\n",
    "\n",
    "    # Randomly Generate the base Genome\n",
    "    base_genome = createGenome(n,single_chrom)\n",
    "    genomes = Vector{Vector{Vector{Int}}}()\n",
    "\n",
    "    # Generate the genomes from the base_genome and given rate\n",
    "    for _ in 1:m\n",
    "        rate=rand(1:n)\n",
    "        genome = copy(base_genome)\n",
    "        for inversion in 1:rate\n",
    "            genome=perform_dcj(genome,single_chrom)\n",
    "        end\n",
    "        push!(genomes, genome)\n",
    "    end\n",
    "\n",
    "    # Write to file\n",
    "    open(output_file, \"w\") do file\n",
    "        for genome in genomes\n",
    "            write(file, join(genome, \" \"), \"\\n\")\n",
    "        end\n",
    "    end\n",
    "\n",
    "    return base_genome, genomes\n",
    "end\n"
   ]
  },
  {
   "cell_type": "markdown",
   "metadata": {
    "id": "EyhfkoxFBcPG",
    "jp-MarkdownHeadingCollapsed": true
   },
   "source": [
    "## Tests for DCJ"
   ]
  },
  {
   "cell_type": "code",
   "execution_count": null,
   "metadata": {
    "colab": {
     "base_uri": "https://localhost:8080/"
    },
    "id": "H2UpZLpfMiRX",
    "outputId": "07995a2e-63e0-4d98-f6fa-85e74c8a271d"
   },
   "outputs": [],
   "source": [
    "if RUN_TESTS\n",
    "  # Test if the Adjacency Graph and Genome functions are working correctly\n",
    "  N=100\n",
    "  num_trials=100\n",
    "  cor=0\n",
    "  for i in 1:num_trials\n",
    "    # Running Adjacency Graph and the Genome should give the original genome\n",
    "    G=createGenome(N)\n",
    "    AG=AdjacencyGraph(G)\n",
    "    newG=Genome(AG)\n",
    "    if sameGenome(G,newG)\n",
    "      cor+=1\n",
    "    end\n",
    "  end\n",
    "  println(\"Percentage of correct outputs = \",(cor/num_trials)*100)\n",
    "end\n"
   ]
  },
  {
   "cell_type": "code",
   "execution_count": null,
   "metadata": {
    "colab": {
     "base_uri": "https://localhost:8080/"
    },
    "id": "GbsQzDxnBe-0",
    "outputId": "dc428ead-de14-4165-b3ea-85dad0c5a56b"
   },
   "outputs": [],
   "source": [
    "if RUN_TESTS\n",
    "  # Test if the DCJ function is working correctly\n",
    "  N=100\n",
    "  num_trials=100\n",
    "  cor=0\n",
    "  for i in 1:num_trials\n",
    "    # The output of the DCJ Algorithm should be the same as the second genome\n",
    "    G1=createGenome(N)\n",
    "    G2=createGenome(N)\n",
    "    G=DCJ(G1,G2,N)\n",
    "    if sameGenome(G2,G)\n",
    "      cor+=1\n",
    "    end\n",
    "  end\n",
    "  println(\"Percentage of correct outputs = \",(cor/num_trials)*100)\n",
    "end\n"
   ]
  },
  {
   "cell_type": "code",
   "execution_count": null,
   "metadata": {
    "colab": {
     "base_uri": "https://localhost:8080/"
    },
    "id": "7PWIUCsjVQan",
    "outputId": "cf6313c8-f93c-4da3-f3dc-d4e1f4fac95f"
   },
   "outputs": [],
   "source": [
    "if RUN_TESTS\n",
    "  # Test if the DCJdistance function is working correctly when both Genomes are the same\n",
    "  N=100\n",
    "  num_trials=100\n",
    "  cor=0\n",
    "  for i in 1:num_trials\n",
    "    # The DCJ Distance between same genomes should be zero\n",
    "    G1=createGenome(N)\n",
    "    G2=G1\n",
    "    dist=DCJdistance(N,G1,G2)\n",
    "    if dist==0\n",
    "      cor+=1\n",
    "    end\n",
    "  end\n",
    "  println(\"Percentage of correct outputs = \",(cor/num_trials)*100)\n",
    "end\n"
   ]
  },
  {
   "cell_type": "code",
   "execution_count": null,
   "metadata": {
    "colab": {
     "base_uri": "https://localhost:8080/"
    },
    "id": "Ib2FM-IZWdBK",
    "outputId": "92d86ae6-8814-4a70-ac32-91c989c5b051"
   },
   "outputs": [],
   "source": [
    "if RUN_TESTS\n",
    "  # Test if the DCJdistance function is working correctly when the Genomes are different\n",
    "  N=100\n",
    "  num_trials=100\n",
    "  cor=0\n",
    "  for i in 1:num_trials\n",
    "    # The DCJ Distance between two genomes should reduce by the number of DCJ operation performed on G1 according to the DCJ Algorithm\n",
    "    G1=createGenome(N)\n",
    "    G2=createGenome(N)\n",
    "    dist1=DCJdistance(N,G1,G2)\n",
    "    count,G3=DCJ(G1,G2,Int(rand(1:dist1)),true)\n",
    "    dist2=DCJdistance(N,G3,G2)\n",
    "    if dist1-dist2==count\n",
    "      cor+=1\n",
    "    end\n",
    "  end\n",
    "  println(\"Percentage of correct outputs = \",(cor/num_trials)*100)\n",
    "end\n"
   ]
  },
  {
   "cell_type": "markdown",
   "metadata": {
    "id": "1eZjKzmtGvXD",
    "jp-MarkdownHeadingCollapsed": true
   },
   "source": [
    "## Tests for Genetic Algorithm"
   ]
  },
  {
   "cell_type": "code",
   "execution_count": null,
   "metadata": {
    "colab": {
     "base_uri": "https://localhost:8080/"
    },
    "id": "_KZrhQ5jRq5j",
    "outputId": "b86793ad-79f7-45df-81c1-b3cb511e71bd"
   },
   "outputs": [],
   "source": [
    "if RUN_TESTS\n",
    "  # Test if the Genetic Algorithm is working correctly for Genomes with one Chromosome\n",
    "  N=10\n",
    "  num_trials=100\n",
    "  num_iter=100\n",
    "  pop_size=100\n",
    "  next_gen_size=400\n",
    "  tol=100\n",
    "  cor=0\n",
    "  for i in 1:num_trials\n",
    "    # Inversion rates for the three genomes\n",
    "    rates = [rand(1:N), rand(1:N), rand(1:N)]\n",
    "    base_genome, genomes = simulate_genomes(N, rates, \"simulated_genomes.txt\",true)\n",
    "    out,iter=GeneticAlgorithm(N,genomes[1],genomes[2],genomes[3],pop_size,next_gen_size,num_iter,tol)\n",
    "    if Fitness(N,genomes[1],genomes[2],genomes[3],out)>=Fitness(N,genomes[1],genomes[2],genomes[3],base_genome)\n",
    "      cor+=1\n",
    "    end\n",
    "  end\n",
    "  println(\"Percentage of correct outputs = \",(cor/num_trials)*100)\n",
    "end\n"
   ]
  },
  {
   "cell_type": "code",
   "execution_count": null,
   "metadata": {
    "colab": {
     "base_uri": "https://localhost:8080/"
    },
    "id": "PzH6g7N2Ba-h",
    "outputId": "dad3503d-03d5-43bb-b13a-f6bdaf8924e6"
   },
   "outputs": [],
   "source": [
    "if RUN_TESTS\n",
    "  # Test if the Genetic Algorithm is working correctly for Genomes with multiple Chromosome\n",
    "  N=10\n",
    "  num_trials=100\n",
    "  num_iter=100\n",
    "  pop_size=100\n",
    "  next_gen_size=400\n",
    "  tol=100\n",
    "  cor=0\n",
    "  for i in 1:num_trials\n",
    "    # Inversion rates for the three genomes\n",
    "    rates = [rand(1:N), rand(1:N), rand(1:N)]\n",
    "    base_genome, genomes = simulate_genomes(N, rates, \"simulated_genomes.txt\",false)\n",
    "    out,iter=GeneticAlgorithm(N,genomes[1],genomes[2],genomes[3],pop_size,next_gen_size,num_iter,tol)\n",
    "    if Fitness(N,genomes[1],genomes[2],genomes[3],out)>=Fitness(N,genomes[1],genomes[2],genomes[3],base_genome)\n",
    "      cor+=1\n",
    "    end\n",
    "  end\n",
    "  println(\"Percentage of correct outputs = \",(cor/num_trials)*100)\n",
    "end\n"
   ]
  },
  {
   "cell_type": "code",
   "execution_count": null,
   "metadata": {
    "colab": {
     "base_uri": "https://localhost:8080/",
     "height": 421
    },
    "id": "6VHHiNpWFknV",
    "outputId": "716b1f6d-f83a-490a-9239-0707e36af27d"
   },
   "outputs": [],
   "source": [
    "if RUN_TESTS\n",
    "  Num_Genes=[10,20,30,40,50,60,70,80,90,100]\n",
    "  Average_Fitness_Score=[]\n",
    "  num_iter=10\n",
    "  pop_size=10\n",
    "  next_gen_size=20\n",
    "  for N in Num_Genes\n",
    "    fit=0\n",
    "    for _ in 1:10\n",
    "      base_genome, genomes = simulate_genomes(N, [rand(1:N), rand(1:N), rand(1:N)], \"simulated_genomes.txt\",false)\n",
    "      out,iter=GeneticAlgorithm(N,genomes[1],genomes[2],genomes[3],pop_size,next_gen_size,num_iter)\n",
    "      fit+=Fitness(N,genomes[1],genomes[2],genomes[3],out)\n",
    "    end\n",
    "    fit=fit/10\n",
    "    push!(Average_Fitness_Score,fit/N)\n",
    "  end\n",
    "  plot(Num_Genes,Average_Fitness_Score,title=\"Normalized Average Fitness Score vs Number of Genes\",xlabel=\"Number of Genes\", ylabel=\"Normalized Average Fitness Score\")\n",
    "end\n"
   ]
  },
  {
   "cell_type": "code",
   "execution_count": null,
   "metadata": {
    "colab": {
     "base_uri": "https://localhost:8080/",
     "height": 421
    },
    "id": "sAzjFnLNlLZl",
    "outputId": "e3aecc63-8262-46d8-9f32-fe3b85ba4522"
   },
   "outputs": [],
   "source": [
    "if RUN_TESTS\n",
    "  Num_Genes=[10,20,30,40,50,60,70,80,90,100]\n",
    "  Median_run_time=[]\n",
    "  num_iter=10\n",
    "  pop_size=10\n",
    "  next_gen_size=20\n",
    "  for N in Num_Genes\n",
    "    base_genome, genomes = simulate_genomes(N, [rand(1:N), rand(1:N), rand(1:N)], \"simulated_genomes.txt\",false)\n",
    "    b=@benchmark out,iter=GeneticAlgorithm($N,$genomes[1],$genomes[2],$genomes[3],$pop_size,$next_gen_size,$num_iter)\n",
    "    push!(Median_run_time,median(b).time/1e9)\n",
    "  end\n",
    "  plot(Num_Genes,Median_run_time,title=\"Median Run Time vs Number of Genes\",xlabel=\"Number of Genes\", ylabel=\"Median Run Time\")\n",
    "end\n"
   ]
  },
  {
   "cell_type": "code",
   "execution_count": null,
   "metadata": {
    "colab": {
     "base_uri": "https://localhost:8080/",
     "height": 421
    },
    "id": "SzVcXpUrs13O",
    "outputId": "10fbfc74-5b71-480b-f61c-6651130ac653"
   },
   "outputs": [],
   "source": [
    "if RUN_TESTS\n",
    "  Num_Genes=[10,20,30,40,50,60,70,80,90,100]\n",
    "  Median_memory_allocated=[]\n",
    "  num_iter=10\n",
    "  pop_size=10\n",
    "  next_gen_size=20\n",
    "  for N in Num_Genes\n",
    "    base_genome, genomes = simulate_genomes(N, [rand(1:N), rand(1:N), rand(1:N)], \"simulated_genomes.txt\",false)\n",
    "    b=@benchmark out,iter=GeneticAlgorithm($N,$genomes[1],$genomes[2],$genomes[3],$pop_size,$next_gen_size,$num_iter)\n",
    "    push!(Median_memory_allocated,median(b).memory)\n",
    "  end\n",
    "  plot(Num_Genes,Median_memory_allocated,title=\"Median Memory Allocated vs Number of Genes\",xlabel=\"Number of Genes\", ylabel=\"Median Memory Allocated\")\n",
    "end\n"
   ]
  },
  {
   "cell_type": "code",
   "execution_count": null,
   "metadata": {
    "colab": {
     "base_uri": "https://localhost:8080/",
     "height": 421
    },
    "id": "JPsG3TeRJwC-",
    "outputId": "ea168a55-a3ae-4495-a5e6-7ff66a58d7a6"
   },
   "outputs": [],
   "source": [
    "if RUN_TESTS\n",
    "  PopulationSize=[10,20,30,40,50,60,70,80,90,100]\n",
    "  Average_Fitness_Score=zeros(length(PopulationSize))\n",
    "  N=10\n",
    "  num_iter=10\n",
    "  for _ in 1:10\n",
    "    base_genome, genomes = simulate_genomes(N, [rand(1:N), rand(1:N), rand(1:N)], \"simulated_genomes.txt\",false)\n",
    "    for i in 1:length(PopulationSize)\n",
    "      pop_size=PopulationSize[i]\n",
    "      next_gen_size=2*pop_size\n",
    "      out,iter=GeneticAlgorithm(N,genomes[1],genomes[2],genomes[3],pop_size,next_gen_size,num_iter)\n",
    "      Average_Fitness_Score[i]+=Fitness(N,genomes[1],genomes[2],genomes[3],out)\n",
    "    end\n",
    "  end\n",
    "  Average_Fitness_Score=Average_Fitness_Score/10\n",
    "  Average_Fitness_Score=Average_Fitness_Score/N\n",
    "  plot(PopulationSize,Average_Fitness_Score,title=\"Normalized Average Fitness Score vs Size of Population\",xlabel=\"Size of Population\", ylabel=\"Normalized Average Fitness Score\")\n",
    "end\n"
   ]
  },
  {
   "cell_type": "code",
   "execution_count": null,
   "metadata": {
    "colab": {
     "base_uri": "https://localhost:8080/",
     "height": 421
    },
    "id": "HG2jkmkFnVxY",
    "outputId": "025926b6-f232-4e77-c2ca-947cb2368332"
   },
   "outputs": [],
   "source": [
    "if RUN_TESTS\n",
    "  PopulationSize=[10,20,30,40,50,60,70,80,90,100]\n",
    "  Median_run_time=[]\n",
    "  N=10\n",
    "  num_iter=10\n",
    "  for pop_size in PopulationSize\n",
    "    next_gen_size=2*pop_size\n",
    "    base_genome, genomes = simulate_genomes(N, [rand(1:N), rand(1:N), rand(1:N)], \"simulated_genomes.txt\",false)\n",
    "    b=@benchmark out,iter=GeneticAlgorithm($N,$genomes[1],$genomes[2],$genomes[3],$pop_size,$next_gen_size,$num_iter)\n",
    "    push!(Median_run_time,median(b).time/1e9)\n",
    "  end\n",
    "  plot(PopulationSize,Median_run_time,title=\"Median Run Time vs Size of Population\",xlabel=\"Size of Population\", ylabel=\"Median Run Time\")\n",
    "end\n"
   ]
  },
  {
   "cell_type": "code",
   "execution_count": null,
   "metadata": {
    "colab": {
     "base_uri": "https://localhost:8080/",
     "height": 421
    },
    "id": "IKq4fgdQvVe5",
    "outputId": "1b07a4fa-2501-43d3-9db1-891c57a6cf19"
   },
   "outputs": [],
   "source": [
    "if RUN_TESTS\n",
    "  PopulationSize=[10,20,30,40,50,60,70,80,90,100]\n",
    "  Median_memory_allocated=[]\n",
    "  N=10\n",
    "  num_iter=10\n",
    "  for pop_size in PopulationSize\n",
    "    next_gen_size=2*pop_size\n",
    "    base_genome, genomes = simulate_genomes(N, [rand(1:N), rand(1:N), rand(1:N)], \"simulated_genomes.txt\",false)\n",
    "    b=@benchmark out,iter=GeneticAlgorithm($N,$genomes[1],$genomes[2],$genomes[3],$pop_size,$next_gen_size,$num_iter)\n",
    "    push!(Median_memory_allocated,median(b).memory)\n",
    "  end\n",
    "  plot(PopulationSize,Median_memory_allocated,title=\"Median Memory Allocated vs Size of Population\",xlabel=\"Size of Population\", ylabel=\"Median Memory Allocated\")\n",
    "end\n"
   ]
  },
  {
   "cell_type": "code",
   "execution_count": null,
   "metadata": {
    "colab": {
     "base_uri": "https://localhost:8080/",
     "height": 421
    },
    "id": "awvgyVIJK03S",
    "outputId": "5c1156f9-ca88-440a-e005-a4a1d870324f"
   },
   "outputs": [],
   "source": [
    "if RUN_TESTS\n",
    "  Iterations=[10,20,30,40,50,60,70,80,90,100]\n",
    "  Average_Fitness_Score=zeros(length(Iterations))\n",
    "  N=10\n",
    "  pop_size=10\n",
    "  next_gen_size=20\n",
    "  for _ in 1:100\n",
    "    base_genome, genomes = simulate_genomes(N, [rand(1:N), rand(1:N), rand(1:N)], \"simulated_genomes.txt\",false)\n",
    "    num_iter=Iterations[end]\n",
    "    out,iter,results=GeneticAlgorithm(N,genomes[1],genomes[2],genomes[3],pop_size,next_gen_size,num_iter,num_iter,true)\n",
    "    Average_Fitness_Score+=results\n",
    "  end\n",
    "  Average_Fitness_Score=Average_Fitness_Score/100\n",
    "  Average_Fitness_Score=Average_Fitness_Score/N\n",
    "  plot(Iterations,Average_Fitness_Score,title=\"Normalized Average Fitness Score vs Number of Iterations\",xlabel=\"Number of Iterations\", ylabel=\"Normalized Average Fitness Score\")\n",
    "end\n"
   ]
  },
  {
   "cell_type": "code",
   "execution_count": null,
   "metadata": {
    "colab": {
     "base_uri": "https://localhost:8080/",
     "height": 421
    },
    "id": "niZpvBpxvnTx",
    "outputId": "57cf7f54-de2e-4bf1-f80c-a00a12f00ab8"
   },
   "outputs": [],
   "source": [
    "if RUN_TESTS\n",
    "  Iterations=[10,20,30,40,50,60,70,80,90,100]\n",
    "  Median_run_time=[]\n",
    "  N=10\n",
    "  pop_size=10\n",
    "  next_gen_size=20\n",
    "  for num_iter in Iterations\n",
    "    base_genome, genomes = simulate_genomes(N, [rand(1:N), rand(1:N), rand(1:N)], \"simulated_genomes.txt\",false)\n",
    "    b=@benchmark out,iter=GeneticAlgorithm($N,$genomes[1],$genomes[2],$genomes[3],$pop_size,$next_gen_size,$num_iter)\n",
    "    push!(Median_run_time,median(b).time/1e9)\n",
    "  end\n",
    "  plot(Iterations,Median_run_time,title=\"Median Run Time vs Number of Iterations\",xlabel=\"Number of Iterations\", ylabel=\"Median Run Time\")\n",
    "end\n"
   ]
  },
  {
   "cell_type": "code",
   "execution_count": null,
   "metadata": {
    "colab": {
     "base_uri": "https://localhost:8080/",
     "height": 421
    },
    "id": "CW5HqKMwwRGO",
    "outputId": "0e5c3076-0476-4663-8047-d7a0b3bb1380"
   },
   "outputs": [],
   "source": [
    "if RUN_TESTS\n",
    "  Iterations=[10,20,30,40,50,60,70,80,90,100]\n",
    "  Median_memory_allocated=[]\n",
    "  N=10\n",
    "  pop_size=10\n",
    "  next_gen_size=20\n",
    "  for num_iter in Iterations\n",
    "    base_genome, genomes = simulate_genomes(N, [rand(1:N), rand(1:N), rand(1:N)], \"simulated_genomes.txt\",false)\n",
    "    b=@benchmark out,iter=GeneticAlgorithm($N,$genomes[1],$genomes[2],$genomes[3],$pop_size,$next_gen_size,$num_iter)\n",
    "    push!(Median_memory_allocated,median(b).memory)\n",
    "  end\n",
    "  plot(Iterations,Median_memory_allocated,title=\"Median Memory Allocated vs Number of Iterations\",xlabel=\"Number of Iterations\", ylabel=\"Median Memory Allocated\")\n",
    "end\n"
   ]
  },
  {
   "cell_type": "code",
   "execution_count": null,
   "metadata": {
    "colab": {
     "base_uri": "https://localhost:8080/",
     "height": 421
    },
    "id": "j2DKvYXxW-GV",
    "outputId": "6eeb0954-f579-4bd8-ca6e-9d8f6c03d9a7"
   },
   "outputs": [],
   "source": [
    "if RUN_TESTS\n",
    "  Ratio=[1,2,3,4,5,6,7,8,9,10]\n",
    "  Average_Fitness_Score=zeros(length(Iterations))\n",
    "  N=10\n",
    "  pop_size=10\n",
    "  num_iter=10\n",
    "  for _ in 1:100\n",
    "    base_genome, genomes = simulate_genomes(N, [rand(1:N), rand(1:N), rand(1:N)], \"simulated_genomes.txt\",false)\n",
    "    for i in 1:length(Ratio)\n",
    "      next_gen_size=Ratio[i]*pop_size\n",
    "      out,iter=GeneticAlgorithm(N,genomes[1],genomes[2],genomes[3],pop_size,next_gen_size,num_iter)\n",
    "      Average_Fitness_Score[i]+=Fitness(N,genomes[1],genomes[2],genomes[3],out)\n",
    "    end\n",
    "  end\n",
    "  Average_Fitness_Score=Average_Fitness_Score/100\n",
    "  Average_Fitness_Score=Average_Fitness_Score/N\n",
    "  plot(Ratio,Average_Fitness_Score,title=\"Normalized Average Fitness Score vs Ratio of Next Generation Size to Population Size\",xlabel=\"Ratio of Next Generation Size to Population Size\", ylabel=\"Normalized Average Fitness Score\")\n",
    "end\n"
   ]
  },
  {
   "cell_type": "code",
   "execution_count": null,
   "metadata": {
    "colab": {
     "base_uri": "https://localhost:8080/",
     "height": 421
    },
    "id": "xNmDbrRwwlnh",
    "outputId": "bbc438ff-9c17-4e07-dc7e-c52a12c4f7b6"
   },
   "outputs": [],
   "source": [
    "if RUN_TESTS\n",
    "  Ratio=[1,2,3,4,5,6,7,8,9,10]\n",
    "  Median_run_time=[]\n",
    "  N=10\n",
    "  pop_size=10\n",
    "  num_iter=10\n",
    "  for r in Ratio\n",
    "    next_gen_size=r*pop_size\n",
    "    base_genome, genomes = simulate_genomes(N, [rand(1:N), rand(1:N), rand(1:N)], \"simulated_genomes.txt\",false)\n",
    "    b=@benchmark out,iter=GeneticAlgorithm($N,$genomes[1],$genomes[2],$genomes[3],$pop_size,$next_gen_size,$num_iter)\n",
    "    push!(Median_run_time,median(b).time/1e9)\n",
    "  end\n",
    "  plot(Ratio,Median_run_time,title=\"Median Run Time vs Ratio of Next Generation Size to Population Size\",xlabel=\"Ratio of Next Generation Size to Population Size\", ylabel=\"Median Run Time\")\n",
    "end\n"
   ]
  },
  {
   "cell_type": "code",
   "execution_count": null,
   "metadata": {
    "colab": {
     "base_uri": "https://localhost:8080/",
     "height": 421
    },
    "id": "H-rk9-z5xSKz",
    "outputId": "825503de-3bad-44f4-828e-8a717e9321eb"
   },
   "outputs": [],
   "source": [
    "if RUN_TESTS\n",
    "  Ratio=[1,2,3,4,5,6,7,8,9,10]\n",
    "  Median_memory_allocated=[]\n",
    "  N=10\n",
    "  pop_size=10\n",
    "  num_iter=10\n",
    "  for r in Ratio\n",
    "    next_gen_size=r*pop_size\n",
    "    base_genome, genomes = simulate_genomes(N, [rand(1:N), rand(1:N), rand(1:N)], \"simulated_genomes.txt\",false)\n",
    "    b=@benchmark out,iter=GeneticAlgorithm($N,$genomes[1],$genomes[2],$genomes[3],$pop_size,$next_gen_size,$num_iter)\n",
    "    push!(Median_memory_allocated,median(b).memory)\n",
    "  end\n",
    "  plot(Ratio,Median_memory_allocated,title=\"Median Memory Allocated vs Ratio of Next Generation Size to Population Size\",xlabel=\"Ratio of Next Generation Size to Population Size\", ylabel=\"Median Memory Allocated\")\n",
    "end\n"
   ]
  },
  {
   "cell_type": "markdown",
   "metadata": {
    "id": "vtQ14qf2F0Vl",
    "jp-MarkdownHeadingCollapsed": true
   },
   "source": [
    "## Tests for Genetic Algorithm with M Genomes"
   ]
  },
  {
   "cell_type": "code",
   "execution_count": null,
   "metadata": {
    "colab": {
     "base_uri": "https://localhost:8080/"
    },
    "id": "Rl2HyG6QGAKW",
    "outputId": "b4be1a4b-c53a-47a1-e23c-141d0e453b68"
   },
   "outputs": [],
   "source": [
    "if RUN_TESTS\n",
    "  # Test if the Genetic Algorithm is working correctly for Genomes with one Chromosome\n",
    "  N=10\n",
    "  num_trials=10\n",
    "  num_iter=100\n",
    "  pop_size=50\n",
    "  next_gen_size=100\n",
    "  tol=100\n",
    "  cor=0\n",
    "  for i in 1:num_trials\n",
    "    # Inversion rates for the nine genomes\n",
    "    rates = [rand(1:N), rand(1:N), rand(1:N),rand(1:N), rand(1:N), rand(1:N),rand(1:N), rand(1:N), rand(1:N)]\n",
    "    base_genome, genomes = simulate_genomes(N, rates, \"simulated_genomes.txt\",true)\n",
    "    out,iter=GeneticAlgorithmGeneral(N,9,genomes,pop_size,next_gen_size,num_iter,tol)\n",
    "    if FitnessGeneral(N,9,genomes,out)>=FitnessGeneral(N,9,genomes,base_genome)\n",
    "      cor+=1\n",
    "    end\n",
    "  end\n",
    "  println(\"Percentage of correct outputs = \",(cor/num_trials)*100)\n",
    "end\n"
   ]
  },
  {
   "cell_type": "code",
   "execution_count": null,
   "metadata": {
    "colab": {
     "base_uri": "https://localhost:8080/"
    },
    "id": "UrCaZ261Nckx",
    "outputId": "8cab47a4-5f5d-4515-8f55-ff377f86b7ab"
   },
   "outputs": [],
   "source": [
    "if RUN_TESTS\n",
    "  # Test if the Genetic Algorithm is working correctly for Genomes with multiple Chromosome\n",
    "  N=10\n",
    "  num_trials=10\n",
    "  num_iter=100\n",
    "  pop_size=50\n",
    "  next_gen_size=100\n",
    "  tol=100\n",
    "  cor=0\n",
    "  for i in 1:num_trials\n",
    "    # Inversion rates for the nine genomes\n",
    "    rates = [rand(1:N), rand(1:N), rand(1:N),rand(1:N), rand(1:N), rand(1:N),rand(1:N), rand(1:N), rand(1:N)]\n",
    "    base_genome, genomes = simulate_genomes(N, rates, \"simulated_genomes.txt\",false)\n",
    "    out,iter=GeneticAlgorithmGeneral(N,9,genomes,pop_size,next_gen_size,num_iter,tol)\n",
    "    if FitnessGeneral(N,9,genomes,out)>=FitnessGeneral(N,9,genomes,base_genome)\n",
    "      cor+=1\n",
    "    end\n",
    "  end\n",
    "  println(\"Percentage of correct outputs = \",(cor/num_trials)*100)\n",
    "end\n"
   ]
  },
  {
   "cell_type": "code",
   "execution_count": null,
   "metadata": {
    "colab": {
     "base_uri": "https://localhost:8080/",
     "height": 421
    },
    "id": "Vsx2Z6QZb7x9",
    "outputId": "5b3a8c19-3710-4b32-ce8c-435c142eaacb"
   },
   "outputs": [],
   "source": [
    "if RUN_TESTS\n",
    "  Num_Genomes=[3,4,5,6,7,8,9,10]\n",
    "  N=10\n",
    "  Median_run_time=[]\n",
    "  num_iter=10\n",
    "  pop_size=10\n",
    "  next_gen_size=20\n",
    "  for M in Num_Genomes\n",
    "    base_genome, genomes = simulate_genomesGeneral(N, M, \"simulated_genomes.txt\",false)\n",
    "    b=@benchmark out,iter=GeneticAlgorithmGeneral($N,$M,$genomes,$pop_size,$next_gen_size,$num_iter)\n",
    "    push!(Median_run_time,median(b).time/1e9)\n",
    "  end\n",
    "  plot(Num_Genomes,Median_run_time,title=\"Median Run Time vs Number of Genomes\",xlabel=\"Number of Genomes\", ylabel=\"Median Run Time\")\n",
    "end\n"
   ]
  },
  {
   "cell_type": "code",
   "execution_count": null,
   "metadata": {
    "colab": {
     "base_uri": "https://localhost:8080/",
     "height": 421
    },
    "id": "5PwZvU9RjPPJ",
    "outputId": "fc3f0897-080e-46cf-a0a2-d177ed07549d"
   },
   "outputs": [],
   "source": [
    "if RUN_TESTS\n",
    "  Num_Genomes=[3,4,5,6,7,8,9,10]\n",
    "  N=10\n",
    "  Median_memory_allocated=[]\n",
    "  num_iter=10\n",
    "  pop_size=10\n",
    "  next_gen_size=20\n",
    "  for M in Num_Genomes\n",
    "    base_genome, genomes = simulate_genomesGeneral(N, M, \"simulated_genomes.txt\",false)\n",
    "    b=@benchmark out,iter=GeneticAlgorithmGeneral($N,$M,$genomes,$pop_size,$next_gen_size,$num_iter)\n",
    "    push!(Median_memory_allocated,median(b).memory)\n",
    "  end\n",
    "  plot(Num_Genomes,Median_memory_allocated,title=\"Median Memory Allocated vs Number of Genomes\",xlabel=\"Number of Genomes\", ylabel=\"Median Memory Allocated\")\n",
    "end\n"
   ]
  },
  {
   "cell_type": "markdown",
   "metadata": {},
   "source": [
    "## Real World Data"
   ]
  },
  {
   "cell_type": "code",
   "execution_count": null,
   "metadata": {},
   "outputs": [],
   "source": [
    "# Generate permutations from Drosophila annotation data\n",
    "cd(@__DIR__)\n",
    "\n",
    "# Function to read the CSV file and process it\n",
    "function process_csv(file_path::String)\n",
    "    # file_path is the file path to the CSV file containing the ortolog information\n",
    "\n",
    "    # Read the CSV file\n",
    "    df = CSV.read(file_path, DataFrame)\n",
    "\n",
    "    # Add a unique identifier to each row\n",
    "    df[!, :OrthologID] = 1:nrow(df)\n",
    "\n",
    "    # Get chromosome columns\n",
    "    chromosome_cols = [name for name in names(df) if occursin(\"Chromosome\", String(name))]\n",
    "\n",
    "    # Group data by the combination of chromosomes to represent non-recombined chromosome fragments\n",
    "    grouped = groupby(df, chromosome_cols)\n",
    "\n",
    "    # Create separate tables for each chromosome combination, sort array by table size, and each table by D. melanogaster start position\n",
    "    tables = sort([sort(subgroup[:, Not(chromosome_cols)], :Dmelanogaster_Start) for subgroup in grouped], by=x -> nrow(x), rev=true)\n",
    "\n",
    "    return tables\n",
    "end\n"
   ]
  },
  {
   "cell_type": "code",
   "execution_count": null,
   "metadata": {},
   "outputs": [],
   "source": [
    "# Function to print ortholog group counts for the top chromosome fragments\n",
    "function print_top_group_counts(tables::Array{DataFrame,1})\n",
    "    # tables is the output of the process_csv() function containing the grouped ortholog data\n",
    "\n",
    "    num_tables = length(tables)\n",
    "    num_to_display = min(num_tables, 50)\n",
    "\n",
    "    println(\"Ortholog Group Counts for the Top \", num_to_display, \" Chromosome Fragments:\")\n",
    "    for i in 1:num_to_display\n",
    "        println(\"Fragment \", i, \": \", nrow(tables[i]), \" ortholog groups\")\n",
    "    end\n",
    "end\n"
   ]
  },
  {
   "cell_type": "code",
   "execution_count": null,
   "metadata": {},
   "outputs": [],
   "source": [
    "# Function to create a dictionary of signed permutations grouped by species\n",
    "function create_permutations(tables::Array{DataFrame,1}, min_ortholog_groups::Int=0)\n",
    "    # tables is the output of the process_csv() function containing the grouped ortholog data\n",
    "    # min_ortholog_groups is the minimum number of ortholog groups a chromosome fragment must contain to be included in the final permutation set\n",
    "\n",
    "    species_permutations = Dict()\n",
    "\n",
    "    for (table_idx, table) in enumerate(tables)\n",
    "        # Skip tables with fewer ortholog groups than the specified threshold\n",
    "        if nrow(table) < min_ortholog_groups\n",
    "            continue\n",
    "        end\n",
    "\n",
    "        for col in names(table)\n",
    "            if occursin(\"_Gene\", col)\n",
    "                species = split(col, \"_\")[1]\n",
    "                start_col = species * \"_Start\"\n",
    "                strand_col = species * \"_Strand\"\n",
    "\n",
    "                # Sort based on start positions\n",
    "                sorted_genes = sortperm(table[!, start_col])\n",
    "\n",
    "                # Determine sign based on strand and use unique numbering for genes on each chromosome fragment\n",
    "                signed_perm = [table[i, strand_col] == \"+\" ? table[i, :OrthologID] : -table[i, :OrthologID] for i in sorted_genes]\n",
    "\n",
    "                # Update the species_permutations dictionary\n",
    "                if !haskey(species_permutations, species)\n",
    "                    species_permutations[species] = []\n",
    "                end\n",
    "                push!(species_permutations[species], signed_perm)\n",
    "            end\n",
    "        end\n",
    "    end\n",
    "\n",
    "    return species_permutations\n",
    "end\n"
   ]
  },
  {
   "cell_type": "code",
   "execution_count": null,
   "metadata": {},
   "outputs": [],
   "source": [
    "# Create ortholog group tables based on chromosome combinations\n",
    "tables = process_csv(\"ortholog_data_final_sorted.csv\")\n",
    "\n",
    "# Print ortholog group counts for the top groups\n",
    "print_top_group_counts(tables)\n",
    "\n",
    "# Create signed permutations for each species in each table\n",
    "species_permutations = create_permutations(tables, 50)\n",
    "\n",
    "#println(species_permutations[\"Dmelanogaster\"][1])\n"
   ]
  },
  {
   "cell_type": "code",
   "execution_count": null,
   "metadata": {},
   "outputs": [],
   "source": [
    "if RUN_TESTS\n",
    "    # Test the Genetic Algorithm on 3 species with one chromosome fragment\n",
    "    out,i=GeneticAlgorithm(length(species_permutations[\"Dmelanogaster\"][1]),[species_permutations[\"Dmelanogaster\"][1]],[species_permutations[\"Dsimulans\"][1]],[species_permutations[\"Dyakuba\"][1]],10,20,100)\n",
    "    Fitness(length(species_permutations[\"Dmelanogaster\"][1]),[species_permutations[\"Dmelanogaster\"][1]],[species_permutations[\"Dsimulans\"][1]],[species_permutations[\"Dyakuba\"][1]],out)\n",
    "end\n"
   ]
  },
  {
   "cell_type": "code",
   "execution_count": null,
   "metadata": {},
   "outputs": [],
   "source": [
    "if RUN_TESTS\n",
    "    # Test the Genetic Algorithm on 9 species with one chromosome fragment\n",
    "    out,i=GeneticAlgorithmGeneral(length(species_permutations[\"Dmelanogaster\"][1]),9,[[species_permutations[\"Dmelanogaster\"][1]],[species_permutations[\"Dsimulans\"][1]],[species_permutations[\"Dyakuba\"][1]],[species_permutations[\"Dsantomea\"][1]],[species_permutations[\"Dananassae\"][1]],[species_permutations[\"Dsuzukii\"][1]],[species_permutations[\"Dsechellia\"][1]],[species_permutations[\"Dmauritiana\"][1]],[species_permutations[\"Dmiranda\"][1]]],10,20,10)\n",
    "    FitnessGeneral(length(species_permutations[\"Dmelanogaster\"][1]),9,[[species_permutations[\"Dmelanogaster\"][1]],[species_permutations[\"Dsimulans\"][1]],[species_permutations[\"Dyakuba\"][1]],[species_permutations[\"Dsantomea\"][1]],[species_permutations[\"Dananassae\"][1]],[species_permutations[\"Dsuzukii\"][1]],[species_permutations[\"Dsechellia\"][1]],[species_permutations[\"Dmauritiana\"][1]],[species_permutations[\"Dmiranda\"][1]]],out)\n",
    "end\n"
   ]
  },
  {
   "cell_type": "code",
   "execution_count": null,
   "metadata": {},
   "outputs": [],
   "source": [
    "if RUN_TESTS\n",
    "    # Test Genetic Algorithm with 3 species having 2 chromosome fragments\n",
    "    out,i=GeneticAlgorithm((length(species_permutations[\"Dmelanogaster\"][1])+length(species_permutations[\"Dmelanogaster\"][2])),[species_permutations[\"Dmelanogaster\"][1],species_permutations[\"Dmelanogaster\"][2]],[species_permutations[\"Dsimulans\"][1],species_permutations[\"Dsimulans\"][2]],[species_permutations[\"Dyakuba\"][1],species_permutations[\"Dyakuba\"][2]],10,20,10)\n",
    "    Fitness((length(species_permutations[\"Dmelanogaster\"][1])+length(species_permutations[\"Dmelanogaster\"][2])),[species_permutations[\"Dmelanogaster\"][1],species_permutations[\"Dmelanogaster\"][2]],[species_permutations[\"Dsimulans\"][1],species_permutations[\"Dsimulans\"][2]],[species_permutations[\"Dyakuba\"][1],species_permutations[\"Dyakuba\"][2]],out)\n",
    "end\n"
   ]
  },
  {
   "cell_type": "code",
   "execution_count": null,
   "metadata": {},
   "outputs": [],
   "source": [
    "if RUN_TESTS\n",
    "    out\n",
    "end\n"
   ]
  },
  {
   "cell_type": "markdown",
   "metadata": {},
   "source": [
    "## Rainbow GUI"
   ]
  },
  {
   "cell_type": "markdown",
   "metadata": {},
   "source": [
    "### Install dependencies"
   ]
  },
  {
   "cell_type": "code",
   "execution_count": null,
   "metadata": {},
   "outputs": [],
   "source": [
    "if INSTALL_DEPENDENCIES\n",
    "    using Pkg\n",
    "    Pkg.add(\"Gtk\")\n",
    "    Pkg.add(\"Graphics\")\n",
    "end\n",
    "\n",
    "using Gtk, Graphics\n"
   ]
  },
  {
   "cell_type": "markdown",
   "metadata": {},
   "source": [
    "### Define colors"
   ]
  },
  {
   "cell_type": "code",
   "execution_count": null,
   "metadata": {},
   "outputs": [],
   "source": [
    "# Returns a color sampled from a smooth, perceputally uniform rainbow ranging\n",
    "# from 0.0 to 1.0\n",
    "#\n",
    "# Uses a 5th-order polynomial approximation of Turbo\n",
    "# https://blog.research.google/2019/08/turbo-improved-rainbow-colormap-for.html\n",
    "# modified from https://observablehq.com/@mbostock/turbo\n",
    "function get_rainbow_color(x)\n",
    "    x = max(0, min(1, x));\n",
    "    return (\n",
    "      (34.61 + x * (1172.33 - x * (10793.56 - x * (33300.12 - x * (38394.49 - x * 14825.05))))) / 255.0,\n",
    "      (23.31 + x * (557.33 + x * (1225.33 - x * (3574.96 - x * (1073.77 + x * 707.56))))) / 255.0,\n",
    "      (27.2 + x * (3211.1 - x * (15327.97 - x * (27814 - x * (22569.18 - x * 6838.66))))) / 255.0,\n",
    "    )\n",
    "end\n",
    "\n",
    "# Returns a discrete color for each `n` from 1 to 22 (after that it repeats)\n",
    "#\n",
    "# Stolen shamelessly from https://sashamaps.net/docs/resources/20-colors/\n",
    "function get_discrete_color(n)\n",
    "    local colormap = [\n",
    "        (0.9019607843137255, 0.09803921568627451, 0.29411764705882354),\n",
    "        (0.23529411764705882, 0.7058823529411765, 0.29411764705882354),\n",
    "        (1.0, 0.8823529411764706, 0.09803921568627451),\n",
    "        (0.2627450980392157, 0.38823529411764707, 0.8470588235294118),\n",
    "        (0.9607843137254902, 0.5098039215686274, 0.19215686274509805),\n",
    "        (0.5686274509803921, 0.11764705882352941, 0.7058823529411765),\n",
    "        (0.27450980392156865, 0.9411764705882353, 0.9411764705882353),\n",
    "        (0.9411764705882353, 0.19607843137254902, 0.9019607843137255),\n",
    "        (0.7372549019607844, 0.9647058823529412, 0.047058823529411764),\n",
    "        (0.9803921568627451, 0.7450980392156863, 0.7450980392156863),\n",
    "        (0.0, 0.5019607843137255, 0.5019607843137255),\n",
    "        (0.9019607843137255, 0.7450980392156863, 1.0),\n",
    "        (0.6039215686274509, 0.38823529411764707, 0.1411764705882353),\n",
    "        (1.0, 0.9803921568627451, 0.7843137254901961),\n",
    "        (0.5019607843137255, 0.0, 0.0),\n",
    "        (0.6666666666666666, 1.0, 0.7647058823529411),\n",
    "        (0.5019607843137255, 0.5019607843137255, 0.0),\n",
    "        (1.0, 0.8470588235294118, 0.6941176470588235),\n",
    "        (0.0, 0.0, 0.4588235294117647),\n",
    "        (0.5019607843137255, 0.5019607843137255, 0.5019607843137255),\n",
    "        (1.0, 1.0, 1.0),\n",
    "        (0.0, 0.0, 0.0),\n",
    "    ]\n",
    "    return colormap[(n-1) % 22 + 1]\n",
    "end\n"
   ]
  },
  {
   "cell_type": "markdown",
   "metadata": {},
   "source": [
    "### Display settings"
   ]
  },
  {
   "cell_type": "code",
   "execution_count": null,
   "metadata": {},
   "outputs": [],
   "source": [
    "# Height of idiogram display as a portion of the whole rainbow display for a chromosome\n",
    "IDIOGRAM_HEIGHT = 0.3\n",
    "\n",
    "# Padding between chromosomes, in pixels\n",
    "CHROMOSOME_PADDING = 5\n"
   ]
  },
  {
   "cell_type": "markdown",
   "metadata": {},
   "source": [
    "### Drawing functions"
   ]
  },
  {
   "cell_type": "code",
   "execution_count": null,
   "metadata": {},
   "outputs": [],
   "source": [
    "# Draws a rectangle with color `color` at size `(x, y)` with size `(w, h)`.\n",
    "function draw_colored_rect!(c :: GtkCanvas, color :: Tuple{Float64, Float64, Float64}, x, y, w, h)\n",
    "    ctx = getgc(c)\n",
    "\n",
    "    r, g, b = color\n",
    "\n",
    "    # Round X positions\n",
    "    x1 = round(x)\n",
    "    x2 = round(x + w)\n",
    "\n",
    "    rectangle(ctx, x1, y, x2-x1, h)\n",
    "    set_source_rgb(ctx, r, g, b)\n",
    "    fill(ctx)\n",
    "end\n",
    "\n",
    "# Draws a rainbow plot representing the signed permutation `seq` relative to\n",
    "# `gene_origins`, which maps gene number to a tuple `(chromosome_index,\n",
    "# index_within_chromosome, chromosome_length)`.\n",
    "function draw_permutation_rainbow!(c :: GtkCanvas,\n",
    "                                   gene_origins :: Vector{Tuple{Int, Int, Int}},\n",
    "                                   seq :: Vector{Int},\n",
    "                                   x, y, w, h)\n",
    "    m = length(seq)\n",
    "    each_width = w/m\n",
    "    for i in 1:m\n",
    "        chromosome_index, gene_index, chromosome_length = gene_origins[abs(seq[i])]\n",
    "        t = (gene_index - 1) / (chromosome_length - 1)\n",
    "        draw_colored_rect!(c, get_rainbow_color(t), x, y, each_width, h)\n",
    "        x += each_width\n",
    "    end\n",
    "end\n",
    "\n",
    "# Draws an idiogram representing the chromosomal origins of the signed\n",
    "# permutation `seq` relative to `gene_origins`, which maps gene number to a\n",
    "# tuple `(chromosome_index, index_within_chromosome, chromosome_length)`.\n",
    "function draw_idiogram!(c :: GtkCanvas,\n",
    "                        gene_origins :: Vector{Tuple{Int, Int, Int}},\n",
    "                        seq :: Vector{Int},\n",
    "                        x, y, w, h)\n",
    "    # Find blocks of genes that came from the same chromosome. Build a list\n",
    "    # where for each block we store where it came from (`origin`) and a length\n",
    "    # (number of genes).\n",
    "    blocks = []\n",
    "    for origin in map(g -> gene_origins[abs(g)][1], seq)\n",
    "        if isempty(blocks) || blocks[end][1] != origin\n",
    "            push!(blocks, [origin, 1])\n",
    "        else\n",
    "            blocks[end][2] += 1\n",
    "        end\n",
    "    end\n",
    "\n",
    "    m = length(seq)\n",
    "    for (chromosome_index, len) in blocks\n",
    "        dx = len * w/m\n",
    "        color = get_discrete_color(chromosome_index)\n",
    "        draw_colored_rect!(c, color, x, y, dx, h)\n",
    "        x += dx\n",
    "    end\n",
    "end\n",
    "\n",
    "# Draws the rainbow plot and idiogram for a signed permutation `seq` relative to\n",
    "# `gene_origins`, which maps gene number to a tuple `(chromosome_index,\n",
    "# index_within_chromosome, chromosome_length)`.\n",
    "function draw_chromosome!(c :: GtkCanvas,\n",
    "                          gene_origins :: Vector{Tuple{Int, Int, Int}},\n",
    "                          seq :: Vector{Int},\n",
    "                          x, y, w, h)\n",
    "    h2 = h * IDIOGRAM_HEIGHT\n",
    "    h1 = h - h2\n",
    "    draw_permutation_rainbow!(c, gene_origins, seq, x, y, w, h1)\n",
    "    draw_idiogram!(c, gene_origins, seq, x, y + h1, w, h2)\n",
    "end\n",
    "\n",
    "# Draws the rainbow plot and idiogram for every chromosome in the `genome`\n",
    "# relative to `gene_origins`. The genome is represented as a list of\n",
    "# chromosomes, and each chromosome is a signed list of genes. Every gene must\n",
    "# have a unique number, although the particular value doesn't matter.\n",
    "function draw_genome!(c :: GtkCanvas,\n",
    "                      gene_origins :: Vector{Tuple{Int, Int, Int}},\n",
    "                      genome :: Vector{Vector{Int}},\n",
    "                      x, y, w, h)\n",
    "    # Compute the height for each chromosome display (including padding)\n",
    "    dy = (h + CHROMOSOME_PADDING) / length(genome)\n",
    "    # Remove padding\n",
    "    h1 = dy - CHROMOSOME_PADDING\n",
    "\n",
    "    # Draw each chromosome.\n",
    "    for chromosome in genome\n",
    "        draw_chromosome!(c, gene_origins, chromosome, x, y, w, h1)\n",
    "        y += dy\n",
    "    end\n",
    "end\n",
    "\n",
    "# Computes the `gene_origins` vector required by drawing functions from a\n",
    "# candidate median genome. The genome is represented as a list of chromosomes,\n",
    "# and each chromosome is a signed list of genes. Every gene must have a unique\n",
    "# number, although the particular value doesn't matter.\n",
    "function compute_gene_origins_vector(median :: Vector{Vector{Int}}) :: Vector{Tuple{Int, Int, Int}}\n",
    "    # Make a dictionary keyed by gene where the value is the position of the\n",
    "    # gene in the median genome, represented as a tuple `(chromosome_index,\n",
    "    # gene_index, chromosome_length)`\n",
    "    gene_origins = [(0, 0, 0) for _ in 1:maximum(map(chromosome -> maximum(abs.(chromosome)), median))]\n",
    "    for (chromosome_index, chromosome) in enumerate(median)\n",
    "        for (i, gene) in enumerate(chromosome)\n",
    "            if gene_origins[abs(gene)] != (0, 0, 0)\n",
    "                println(\"Duplicate gene! Bad input data\")\n",
    "            end\n",
    "            gene_origins[abs(gene)] = (chromosome_index, i, length(chromosome))\n",
    "        end\n",
    "    end\n",
    "    gene_origins\n",
    "end\n"
   ]
  },
  {
   "cell_type": "markdown",
   "metadata": {},
   "source": [
    "### Species selection UI"
   ]
  },
  {
   "cell_type": "code",
   "execution_count": null,
   "metadata": {},
   "outputs": [],
   "source": [
    "# Shows the GUI to select three species, then shows the GUI to run the genetic\n",
    "# algorithm on those three species.\n",
    "function gui_select_species!(win)\n",
    "    vbox = GtkBox(:v, margin=15)\n",
    "    l = GtkLabel(\"Select 3 species to compare\", margin=10)\n",
    "    b = GtkButton(\"Medianize!\", margin=15, sensitive=false)\n",
    "\n",
    "    # Make a checkbox for each species.\n",
    "    push!(vbox, l)\n",
    "    selected_species = Set()\n",
    "    for species in keys(species_permutations)\n",
    "        c = GtkCheckButton(species)\n",
    "        push!(vbox, c)\n",
    "\n",
    "        # Enable or disable the button depending on how many species are\n",
    "        # selected.\n",
    "        signal_connect(c, \"toggled\") do widget\n",
    "            if get_gtk_property(widget, :active, Bool)\n",
    "                push!(selected_species, species)\n",
    "            else\n",
    "                delete!(selected_species, species)\n",
    "            end\n",
    "            set_gtk_property!(b, :sensitive, length(selected_species) == 3)\n",
    "        end\n",
    "    end\n",
    "    push!(vbox, b)\n",
    "    push!(win, vbox)\n",
    "    showall(win)\n",
    "\n",
    "    signal_connect(b, :clicked) do widget\n",
    "        push!(GtkNullContainer(), vbox)\n",
    "        gui_comparison!(win, (String(pop!(selected_species)),\n",
    "                              String(pop!(selected_species)),\n",
    "                              String(pop!(selected_species))))\n",
    "    end\n",
    "end\n"
   ]
  },
  {
   "cell_type": "markdown",
   "metadata": {},
   "source": [
    "### Main UI"
   ]
  },
  {
   "cell_type": "code",
   "execution_count": null,
   "metadata": {},
   "outputs": [],
   "source": [
    "# Shows the GUI to run the genetic algorithm on the three species `a, b, c`.\n",
    "function gui_comparison!(\n",
    "    win,\n",
    "    species_names :: Tuple{String, String, String},\n",
    "    chromosome_count :: Int = 2,\n",
    "    pop_size :: Int = 10,\n",
    "    num_iter :: Int = 100\n",
    ")\n",
    "    vbox = GtkBox(:v, margin=15)\n",
    "\n",
    "    # Start optimizing\n",
    "    median = []\n",
    "\n",
    "    push!(vbox, GtkLabel(\"Genetic DCJ Median Algorithm\", margin=10))\n",
    "    output_iterations=[0]\n",
    "    iterations_label = GtkLabel(\"Iterations: 0\", margin=10)\n",
    "    push!(vbox, iterations_label)\n",
    "\n",
    "    hbox = GtkBox(:h, margin=15)\n",
    "    push!(vbox, hbox)\n",
    "\n",
    "    # Make a label and canvas for each species\n",
    "    species_distance_labels = []\n",
    "    species_canvases = []\n",
    "    for species in species_names\n",
    "        species_vbox = GtkBox(:v, margin=5)\n",
    "        push!(hbox, species_vbox)\n",
    "\n",
    "        push!(species_vbox, GtkLabel(species))\n",
    "\n",
    "        distance_label = GtkLabel(\"\")\n",
    "        push!(species_vbox, distance_label)\n",
    "        push!(species_distance_labels, distance_label)\n",
    "\n",
    "        c = GtkCanvas()\n",
    "        set_gtk_property!(c, :width_request, 300)\n",
    "        set_gtk_property!(c, :height_request, 10 * chromosome_count)\n",
    "        set_gtk_property!(c, :hexpand, true)\n",
    "        set_gtk_property!(c, :vexpand, true)\n",
    "        push!(species_canvases, c)\n",
    "        push!(species_vbox, c)\n",
    "    end\n",
    "\n",
    "    targets :: Vector{Vector{Vector{Int}}} = [species_permutations[species][1:chromosome_count] for species in species_names]\n",
    "\n",
    "    # How many genes?\n",
    "    N = sum(map(i -> length(targets[1][i]), 1:chromosome_count))\n",
    "\n",
    "    # Preprocess median\n",
    "    gene_origins :: Vector{Tuple{Int, Int, Int}} = []\n",
    "    function update_genomes(median)\n",
    "        empty!(gene_origins)\n",
    "        append!(gene_origins, compute_gene_origins_vector(Vector{Vector{Int}}(median)))\n",
    "        for i in 1:3\n",
    "            GAccessor.text(species_distance_labels[i], \"DCJ distance to median: $(DCJdistance(N, median, targets[i]))\")\n",
    "        end\n",
    "\n",
    "        # Update drawing\n",
    "        for (species, permutations, c) in zip(species_names, targets, species_canvases)\n",
    "            @guarded draw(c) do widget\n",
    "                draw_genome!(c, gene_origins, permutations, 0, 0, width(c), height(c))\n",
    "            end\n",
    "        end\n",
    "    end\n",
    "    update_genomes(targets[1])\n",
    "\n",
    "    output_channel = Channel()\n",
    "    @Threads.spawn begin\n",
    "        GeneticAlgorithm(\n",
    "            N,               # N\n",
    "            targets[1],      # G1\n",
    "            targets[2],      # G2\n",
    "            targets[3],      # G3\n",
    "            pop_size,        # PopSize\n",
    "            20,              # NextGenSize\n",
    "            num_iter,        # NumIter\n",
    "            num_iter,        # tol\n",
    "            false,           # store_iteration_result\n",
    "            output_channel   # output_channel\n",
    "        )\n",
    "    end\n",
    "    println(\"Spawned thread\")\n",
    "\n",
    "    g_timeout_add(100, function(_) # do every 100ms\n",
    "        println(\"Scanning for new output ...\")\n",
    "        if isready(output_channel)\n",
    "            println(\"Got new output!\")\n",
    "            i, new_median = take!(output_channel)\n",
    "            GAccessor.text(iterations_label, \"Iterations: $i\")\n",
    "            update_genomes(new_median)\n",
    "            reveal(win)\n",
    "        end\n",
    "        return true # keep running\n",
    "    end, nothing)\n",
    "\n",
    "    push!(win, vbox)\n",
    "    showall(win)\n",
    "end\n",
    "\n",
    "if RUN_GUI\n",
    "    win = GtkWindow(title=\"Genetic DCJ Median\")\n",
    "    gui_select_species!(win)\n",
    "end\n"
   ]
  },
  {
   "cell_type": "markdown",
   "metadata": {},
   "source": [
    "## Comparison Against ASMedian Solver"
   ]
  },
  {
   "cell_type": "code",
   "execution_count": null,
   "metadata": {},
   "outputs": [],
   "source": [
    "if RUN_COMPARISON\n",
    "    comparison_genome_1 = [1, -65, 61, 62, 63, 64, -60, -59, -58, 56, 57, -55, -54, -53, -52, -51, -50, -49, -48, 47, -15, -14, 17, 18, 19, 20, -32, -31, -30, -74, -73, -37, 44, 45, 97, 34, 35, 36, -33, -81, 80, -79, -78, -77, -76, -75, -29, -28, -27, -26, -25, -24, -23, -22, -21, 82, 83, 84, 85, 86, -88, 91, 92, -6, -5, -4, -3, -2, 66, 67, 68, 69, 70, 71, 72, 38, 39, 40, 16, -13, -12, -11, -10, -9, -8, -7, 93, 94, 95, 96, 46, -90, -89, 87, 41, 42, 43, 98, 99, 100]\n",
    "    comparison_genome_2 = [1, 2, -30, -29, 67, 68, 69, 3, 4, 28, 89, 90, 91, 92, 93, -40, -55, -54, -53, -74, -65, -64, -63, -62, -61, 9, 10, 11, 12, -95, -94, 41, -46, 96, 80, 100, 84, 85, 86, 87, 88, -66, -73, -72, -34, -33, -32, -31, -99, -98, 56, 57, 58, 59, 60, -8, -7, 37, 48, 49, 50, 51, -71, -70, 81, 82, 5, 6, -36, -35, 52, 75, 76, 77, 78, 42, 43, 44, 45, 47, -26, 27, 20, -17, -16, -15, -14, -13, 79, 97, -39, -38, -25, -24, -23, -22, -21, 18, 19, 83]\n",
    "    comparison_genome_3 = [1, 2, -30, -29, 36, 37, 38, 55, 56, -74, 27, -75, 79, -61, -60, -59, -26, -20, -41, -78, -77, -31, -17, -16, -15, 12, 69, -52, -51, -50, -49, -48, -47, -46, 43, 44, 45, -42, -19, -18, -94, -93, -92, -91, 40, -39, -54, 23, 24, 64, -73, -21, 72, 22, -58, -57, -76, 28, -35, 71, 32, 33, 34, -70, -98, -97, -96, -95, -3, -25, -63, -62, 80, 81, 4, 5, -84, 82, -14, -13, 83, -90, -89, -88, -87, -86, -85, 6, -8, -7, 9, 10, 11, 53, 65, 66, 67, 68, 99, 100]\n",
    "\n",
    "    out,i= GeneticAlgorithm(length(comparison_genome_1),[comparison_genome_1],[comparison_genome_2],[comparison_genome_3],10,20,100)\n",
    "\n",
    "    println(\"Median Genome: \", out)\n",
    "\n",
    "    dist1 = DCJdistance(length(comparison_genome_1),[comparison_genome_1],out)\n",
    "    println(\"DCJ Distance between Genome 1 and Median Genome: \", dist1)\n",
    "    dist2 = DCJdistance(length(comparison_genome_2),[comparison_genome_2],out)\n",
    "    println(\"DCJ Distance between Genome 2 and Median Genome: \", dist2)\n",
    "    dist3 = DCJdistance(length(comparison_genome_3),[comparison_genome_3],out)\n",
    "    println(\"DCJ Distance between Genome 3 and Median Genome: \", dist3)\n",
    "\n",
    "    b_GeneticAlg= @benchmark out,i= GeneticAlgorithm(length(comparison_genome_1),[comparison_genome_1],[comparison_genome_2],[comparison_genome_3],10,20,100)\n",
    "    Fitness(length(comparison_genome_1),[comparison_genome_1],[comparison_genome_2],[comparison_genome_3],out)\n",
    "\n",
    "    # Sum of the DCJ Distances\n",
    "    println(\"Sum of the DCJ Distances: \", dist1+dist2+dist3)\n",
    "\n",
    "    # Print median run time in seconds\n",
    "    println(\"Median Run Time (sec): \", median(b_GeneticAlg).time/1e9)\n",
    "    # Print median memory usage in bytes\n",
    "    println(\"Median Memory Usage (bytes): \", median(b_GeneticAlg).memory)\n",
    "end\n"
   ]
  },
  {
   "cell_type": "code",
   "execution_count": null,
   "metadata": {},
   "outputs": [],
   "source": [
    "if RUN_COMPARISON\n",
    "    cd(\"./ASMedian\")\n",
    "\n",
    "    # Requires Java to be installed!! (Tested on Java 11)\n",
    "    function run_ASMedian()\n",
    "        run(`java BIOMedian example`)\n",
    "    end\n",
    "end\n"
   ]
  },
  {
   "cell_type": "code",
   "execution_count": null,
   "metadata": {},
   "outputs": [
    {
     "name": "stdout",
     "output_type": "stream",
     "text": [
      "Putting output 4\n",
      "Scanning for new output ...\n",
      "Got new output!\n",
      "Done putting output 4\n"
     ]
    }
   ],
   "source": [
    "if RUN_COMPARISON\n",
    "    ASMedian_result = run_ASMedian()\n",
    "\n",
    "    b_ASMedian= @benchmark ASMedian_result = run_ASMedian()\n",
    "\n",
    "    println(ASMedian_result)\n",
    "\n",
    "    # Print median run time in seconds\n",
    "    println(\"Median Run Time (sec): \", median(b_ASMedian).time/1e9)\n",
    "    # Print median memory usage in bytes\n",
    "    println(\"Median Memory Usage (bytes): \", median(b_ASMedian).memory)\n",
    "end\n"
   ]
  }
 ],
 "metadata": {
  "colab": {
   "collapsed_sections": [
    "ipUXK8jfNwOT",
    "-OS3Ac017T1i",
    "uqQVI92zBCzA",
    "VEP29fL0BTgY",
    "ldneXA2t8LFt",
    "Wa7GQSipXMWl",
    "EyhfkoxFBcPG"
   ],
   "provenance": []
  },
  "gpuClass": "standard",
  "kernelspec": {
   "display_name": "Julia 1.9.4",
   "language": "julia",
   "name": "julia-1.9"
  },
  "language_info": {
   "file_extension": ".jl",
   "mimetype": "application/julia",
   "name": "julia",
   "version": "1.9.4"
  }
 },
 "nbformat": 4,
 "nbformat_minor": 4
}
